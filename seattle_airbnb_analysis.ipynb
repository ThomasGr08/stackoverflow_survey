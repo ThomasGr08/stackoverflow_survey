{
 "cells": [
  {
   "cell_type": "markdown",
   "metadata": {},
   "source": [
    "## Understanding the data"
   ]
  },
  {
   "cell_type": "code",
   "execution_count": 220,
   "metadata": {},
   "outputs": [],
   "source": [
    "import numpy as np\n",
    "import pandas as pd\n",
    "import re\n",
    "import seaborn as sns\n",
    "import matplotlib.pyplot as plt\n",
    "import statsmodels.api as sm\n",
    "from sklearn.linear_model import LinearRegression\n"
   ]
  },
  {
   "cell_type": "code",
   "execution_count": 136,
   "metadata": {},
   "outputs": [
    {
     "name": "stdout",
     "output_type": "stream",
     "text": [
      "(1393570, 4)\n"
     ]
    },
    {
     "data": {
      "text/html": [
       "<div>\n",
       "<style scoped>\n",
       "    .dataframe tbody tr th:only-of-type {\n",
       "        vertical-align: middle;\n",
       "    }\n",
       "\n",
       "    .dataframe tbody tr th {\n",
       "        vertical-align: top;\n",
       "    }\n",
       "\n",
       "    .dataframe thead th {\n",
       "        text-align: right;\n",
       "    }\n",
       "</style>\n",
       "<table border=\"1\" class=\"dataframe\">\n",
       "  <thead>\n",
       "    <tr style=\"text-align: right;\">\n",
       "      <th></th>\n",
       "      <th>listing_id</th>\n",
       "      <th>date</th>\n",
       "      <th>available</th>\n",
       "      <th>price</th>\n",
       "    </tr>\n",
       "  </thead>\n",
       "  <tbody>\n",
       "    <tr>\n",
       "      <th>0</th>\n",
       "      <td>241032</td>\n",
       "      <td>2016-01-04</td>\n",
       "      <td>t</td>\n",
       "      <td>$85.00</td>\n",
       "    </tr>\n",
       "    <tr>\n",
       "      <th>1</th>\n",
       "      <td>241032</td>\n",
       "      <td>2016-01-05</td>\n",
       "      <td>t</td>\n",
       "      <td>$85.00</td>\n",
       "    </tr>\n",
       "    <tr>\n",
       "      <th>2</th>\n",
       "      <td>241032</td>\n",
       "      <td>2016-01-06</td>\n",
       "      <td>f</td>\n",
       "      <td>NaN</td>\n",
       "    </tr>\n",
       "    <tr>\n",
       "      <th>3</th>\n",
       "      <td>241032</td>\n",
       "      <td>2016-01-07</td>\n",
       "      <td>f</td>\n",
       "      <td>NaN</td>\n",
       "    </tr>\n",
       "    <tr>\n",
       "      <th>4</th>\n",
       "      <td>241032</td>\n",
       "      <td>2016-01-08</td>\n",
       "      <td>f</td>\n",
       "      <td>NaN</td>\n",
       "    </tr>\n",
       "  </tbody>\n",
       "</table>\n",
       "</div>"
      ],
      "text/plain": [
       "   listing_id        date available   price\n",
       "0      241032  2016-01-04         t  $85.00\n",
       "1      241032  2016-01-05         t  $85.00\n",
       "2      241032  2016-01-06         f     NaN\n",
       "3      241032  2016-01-07         f     NaN\n",
       "4      241032  2016-01-08         f     NaN"
      ]
     },
     "execution_count": 136,
     "metadata": {},
     "output_type": "execute_result"
    }
   ],
   "source": [
    "df_calendar = pd.read_csv('./calendar.csv')\n",
    "print(df_calendar.shape)\n",
    "df_calendar.head()"
   ]
  },
  {
   "cell_type": "markdown",
   "metadata": {},
   "source": [
    "We should transform the price to numeric and available to 0 and 1s. It may also be useful to extend the date to year, month and day."
   ]
  },
  {
   "cell_type": "code",
   "execution_count": 137,
   "metadata": {},
   "outputs": [
    {
     "name": "stdout",
     "output_type": "stream",
     "text": [
      "<class 'pandas.core.frame.DataFrame'>\n",
      "RangeIndex: 1393570 entries, 0 to 1393569\n",
      "Data columns (total 4 columns):\n",
      " #   Column      Non-Null Count    Dtype \n",
      "---  ------      --------------    ----- \n",
      " 0   listing_id  1393570 non-null  int64 \n",
      " 1   date        1393570 non-null  object\n",
      " 2   available   1393570 non-null  object\n",
      " 3   price       934542 non-null   object\n",
      "dtypes: int64(1), object(3)\n",
      "memory usage: 42.5+ MB\n"
     ]
    }
   ],
   "source": [
    "df_calendar.info()"
   ]
  },
  {
   "cell_type": "code",
   "execution_count": 138,
   "metadata": {},
   "outputs": [
    {
     "name": "stdout",
     "output_type": "stream",
     "text": [
      "(3818, 92)\n"
     ]
    },
    {
     "data": {
      "text/plain": [
       "3171"
      ]
     },
     "execution_count": 138,
     "metadata": {},
     "output_type": "execute_result"
    }
   ],
   "source": [
    "df_listings = pd.read_csv('./listings.csv')\n",
    "print(df_listings.shape)\n",
    "df_listings.review_scores_rating.count()"
   ]
  },
  {
   "cell_type": "code",
   "execution_count": 139,
   "metadata": {},
   "outputs": [
    {
     "name": "stdout",
     "output_type": "stream",
     "text": [
      "<class 'pandas.core.frame.DataFrame'>\n",
      "RangeIndex: 3818 entries, 0 to 3817\n",
      "Data columns (total 92 columns):\n",
      " #   Column                            Non-Null Count  Dtype  \n",
      "---  ------                            --------------  -----  \n",
      " 0   id                                3818 non-null   int64  \n",
      " 1   listing_url                       3818 non-null   object \n",
      " 2   scrape_id                         3818 non-null   int64  \n",
      " 3   last_scraped                      3818 non-null   object \n",
      " 4   name                              3818 non-null   object \n",
      " 5   summary                           3641 non-null   object \n",
      " 6   space                             3249 non-null   object \n",
      " 7   description                       3818 non-null   object \n",
      " 8   experiences_offered               3818 non-null   object \n",
      " 9   neighborhood_overview             2786 non-null   object \n",
      " 10  notes                             2212 non-null   object \n",
      " 11  transit                           2884 non-null   object \n",
      " 12  thumbnail_url                     3498 non-null   object \n",
      " 13  medium_url                        3498 non-null   object \n",
      " 14  picture_url                       3818 non-null   object \n",
      " 15  xl_picture_url                    3498 non-null   object \n",
      " 16  host_id                           3818 non-null   int64  \n",
      " 17  host_url                          3818 non-null   object \n",
      " 18  host_name                         3816 non-null   object \n",
      " 19  host_since                        3816 non-null   object \n",
      " 20  host_location                     3810 non-null   object \n",
      " 21  host_about                        2959 non-null   object \n",
      " 22  host_response_time                3295 non-null   object \n",
      " 23  host_response_rate                3295 non-null   object \n",
      " 24  host_acceptance_rate              3045 non-null   object \n",
      " 25  host_is_superhost                 3816 non-null   object \n",
      " 26  host_thumbnail_url                3816 non-null   object \n",
      " 27  host_picture_url                  3816 non-null   object \n",
      " 28  host_neighbourhood                3518 non-null   object \n",
      " 29  host_listings_count               3816 non-null   float64\n",
      " 30  host_total_listings_count         3816 non-null   float64\n",
      " 31  host_verifications                3818 non-null   object \n",
      " 32  host_has_profile_pic              3816 non-null   object \n",
      " 33  host_identity_verified            3816 non-null   object \n",
      " 34  street                            3818 non-null   object \n",
      " 35  neighbourhood                     3402 non-null   object \n",
      " 36  neighbourhood_cleansed            3818 non-null   object \n",
      " 37  neighbourhood_group_cleansed      3818 non-null   object \n",
      " 38  city                              3818 non-null   object \n",
      " 39  state                             3818 non-null   object \n",
      " 40  zipcode                           3811 non-null   object \n",
      " 41  market                            3818 non-null   object \n",
      " 42  smart_location                    3818 non-null   object \n",
      " 43  country_code                      3818 non-null   object \n",
      " 44  country                           3818 non-null   object \n",
      " 45  latitude                          3818 non-null   float64\n",
      " 46  longitude                         3818 non-null   float64\n",
      " 47  is_location_exact                 3818 non-null   object \n",
      " 48  property_type                     3817 non-null   object \n",
      " 49  room_type                         3818 non-null   object \n",
      " 50  accommodates                      3818 non-null   int64  \n",
      " 51  bathrooms                         3802 non-null   float64\n",
      " 52  bedrooms                          3812 non-null   float64\n",
      " 53  beds                              3817 non-null   float64\n",
      " 54  bed_type                          3818 non-null   object \n",
      " 55  amenities                         3818 non-null   object \n",
      " 56  square_feet                       97 non-null     float64\n",
      " 57  price                             3818 non-null   object \n",
      " 58  weekly_price                      2009 non-null   object \n",
      " 59  monthly_price                     1517 non-null   object \n",
      " 60  security_deposit                  1866 non-null   object \n",
      " 61  cleaning_fee                      2788 non-null   object \n",
      " 62  guests_included                   3818 non-null   int64  \n",
      " 63  extra_people                      3818 non-null   object \n",
      " 64  minimum_nights                    3818 non-null   int64  \n",
      " 65  maximum_nights                    3818 non-null   int64  \n",
      " 66  calendar_updated                  3818 non-null   object \n",
      " 67  has_availability                  3818 non-null   object \n",
      " 68  availability_30                   3818 non-null   int64  \n",
      " 69  availability_60                   3818 non-null   int64  \n",
      " 70  availability_90                   3818 non-null   int64  \n",
      " 71  availability_365                  3818 non-null   int64  \n",
      " 72  calendar_last_scraped             3818 non-null   object \n",
      " 73  number_of_reviews                 3818 non-null   int64  \n",
      " 74  first_review                      3191 non-null   object \n",
      " 75  last_review                       3191 non-null   object \n",
      " 76  review_scores_rating              3171 non-null   float64\n",
      " 77  review_scores_accuracy            3160 non-null   float64\n",
      " 78  review_scores_cleanliness         3165 non-null   float64\n",
      " 79  review_scores_checkin             3160 non-null   float64\n",
      " 80  review_scores_communication       3167 non-null   float64\n",
      " 81  review_scores_location            3163 non-null   float64\n",
      " 82  review_scores_value               3162 non-null   float64\n",
      " 83  requires_license                  3818 non-null   object \n",
      " 84  license                           0 non-null      float64\n",
      " 85  jurisdiction_names                3818 non-null   object \n",
      " 86  instant_bookable                  3818 non-null   object \n",
      " 87  cancellation_policy               3818 non-null   object \n",
      " 88  require_guest_profile_picture     3818 non-null   object \n",
      " 89  require_guest_phone_verification  3818 non-null   object \n",
      " 90  calculated_host_listings_count    3818 non-null   int64  \n",
      " 91  reviews_per_month                 3191 non-null   float64\n",
      "dtypes: float64(17), int64(13), object(62)\n",
      "memory usage: 2.7+ MB\n"
     ]
    }
   ],
   "source": [
    "df_listings.info()"
   ]
  },
  {
   "cell_type": "code",
   "execution_count": 140,
   "metadata": {},
   "outputs": [
    {
     "data": {
      "text/plain": [
       "<AxesSubplot:>"
      ]
     },
     "execution_count": 140,
     "metadata": {},
     "output_type": "execute_result"
    },
    {
     "data": {
      "image/png": "[encoded data removed]",
      "text/plain": [
       "<Figure size 432x288 with 2 Axes>"
      ]
     },
     "metadata": {
      "needs_background": "light"
     },
     "output_type": "display_data"
    }
   ],
   "source": [
    "sns.heatmap(df_listings.drop(['id', 'host_id', 'scrape_id'], axis=1).corr())"
   ]
  },
  {
   "cell_type": "markdown",
   "metadata": {},
   "source": [
    "There are a lot of variables, we might have a look whether we could drop columns with a lot of NAs or other columns that are just not useful. We also might transform some of the objects to ints (prices, fees)."
   ]
  },
  {
   "cell_type": "code",
   "execution_count": 141,
   "metadata": {},
   "outputs": [
    {
     "name": "stdout",
     "output_type": "stream",
     "text": [
      "(84849, 6)\n"
     ]
    },
    {
     "data": {
      "text/html": [
       "<div>\n",
       "<style scoped>\n",
       "    .dataframe tbody tr th:only-of-type {\n",
       "        vertical-align: middle;\n",
       "    }\n",
       "\n",
       "    .dataframe tbody tr th {\n",
       "        vertical-align: top;\n",
       "    }\n",
       "\n",
       "    .dataframe thead th {\n",
       "        text-align: right;\n",
       "    }\n",
       "</style>\n",
       "<table border=\"1\" class=\"dataframe\">\n",
       "  <thead>\n",
       "    <tr style=\"text-align: right;\">\n",
       "      <th></th>\n",
       "      <th>listing_id</th>\n",
       "      <th>id</th>\n",
       "      <th>date</th>\n",
       "      <th>reviewer_id</th>\n",
       "      <th>reviewer_name</th>\n",
       "      <th>comments</th>\n",
       "    </tr>\n",
       "  </thead>\n",
       "  <tbody>\n",
       "    <tr>\n",
       "      <th>0</th>\n",
       "      <td>7202016</td>\n",
       "      <td>38917982</td>\n",
       "      <td>2015-07-19</td>\n",
       "      <td>28943674</td>\n",
       "      <td>Bianca</td>\n",
       "      <td>Cute and cozy place. Perfect location to every...</td>\n",
       "    </tr>\n",
       "    <tr>\n",
       "      <th>1</th>\n",
       "      <td>7202016</td>\n",
       "      <td>39087409</td>\n",
       "      <td>2015-07-20</td>\n",
       "      <td>32440555</td>\n",
       "      <td>Frank</td>\n",
       "      <td>Kelly has a great room in a very central locat...</td>\n",
       "    </tr>\n",
       "    <tr>\n",
       "      <th>2</th>\n",
       "      <td>7202016</td>\n",
       "      <td>39820030</td>\n",
       "      <td>2015-07-26</td>\n",
       "      <td>37722850</td>\n",
       "      <td>Ian</td>\n",
       "      <td>Very spacious apartment, and in a great neighb...</td>\n",
       "    </tr>\n",
       "    <tr>\n",
       "      <th>3</th>\n",
       "      <td>7202016</td>\n",
       "      <td>40813543</td>\n",
       "      <td>2015-08-02</td>\n",
       "      <td>33671805</td>\n",
       "      <td>George</td>\n",
       "      <td>Close to Seattle Center and all it has to offe...</td>\n",
       "    </tr>\n",
       "    <tr>\n",
       "      <th>4</th>\n",
       "      <td>7202016</td>\n",
       "      <td>41986501</td>\n",
       "      <td>2015-08-10</td>\n",
       "      <td>34959538</td>\n",
       "      <td>Ming</td>\n",
       "      <td>Kelly was a great host and very accommodating ...</td>\n",
       "    </tr>\n",
       "  </tbody>\n",
       "</table>\n",
       "</div>"
      ],
      "text/plain": [
       "   listing_id        id        date  reviewer_id reviewer_name  \\\n",
       "0     7202016  38917982  2015-07-19     28943674        Bianca   \n",
       "1     7202016  39087409  2015-07-20     32440555         Frank   \n",
       "2     7202016  39820030  2015-07-26     37722850           Ian   \n",
       "3     7202016  40813543  2015-08-02     33671805        George   \n",
       "4     7202016  41986501  2015-08-10     34959538          Ming   \n",
       "\n",
       "                                            comments  \n",
       "0  Cute and cozy place. Perfect location to every...  \n",
       "1  Kelly has a great room in a very central locat...  \n",
       "2  Very spacious apartment, and in a great neighb...  \n",
       "3  Close to Seattle Center and all it has to offe...  \n",
       "4  Kelly was a great host and very accommodating ...  "
      ]
     },
     "execution_count": 141,
     "metadata": {},
     "output_type": "execute_result"
    }
   ],
   "source": [
    "df_reviews = pd.read_csv('./reviews.csv')\n",
    "print(df_reviews.shape)\n",
    "df_reviews.head()"
   ]
  },
  {
   "cell_type": "code",
   "execution_count": 142,
   "metadata": {},
   "outputs": [
    {
     "name": "stdout",
     "output_type": "stream",
     "text": [
      "<class 'pandas.core.frame.DataFrame'>\n",
      "RangeIndex: 84849 entries, 0 to 84848\n",
      "Data columns (total 6 columns):\n",
      " #   Column         Non-Null Count  Dtype \n",
      "---  ------         --------------  ----- \n",
      " 0   listing_id     84849 non-null  int64 \n",
      " 1   id             84849 non-null  int64 \n",
      " 2   date           84849 non-null  object\n",
      " 3   reviewer_id    84849 non-null  int64 \n",
      " 4   reviewer_name  84849 non-null  object\n",
      " 5   comments       84831 non-null  object\n",
      "dtypes: int64(3), object(3)\n",
      "memory usage: 3.9+ MB\n"
     ]
    }
   ],
   "source": [
    "df_reviews.info()"
   ]
  },
  {
   "cell_type": "markdown",
   "metadata": {},
   "source": [
    "not a lot to do, only comments has a few missing entries."
   ]
  },
  {
   "cell_type": "markdown",
   "metadata": {},
   "source": [
    "## Cleaning and Preparing the data"
   ]
  },
  {
   "cell_type": "markdown",
   "metadata": {},
   "source": [
    "### starting with df_calendar"
   ]
  },
  {
   "cell_type": "code",
   "execution_count": 143,
   "metadata": {},
   "outputs": [
    {
     "data": {
      "text/plain": [
       "1    934542\n",
       "0    459028\n",
       "Name: available, dtype: int64"
      ]
     },
     "execution_count": 143,
     "metadata": {},
     "output_type": "execute_result"
    }
   ],
   "source": [
    "# transform variable available\n",
    "df_calendar['available'].replace(['t', 'f'], [1,0], inplace = True)\n",
    "df_calendar['available'].value_counts()"
   ]
  },
  {
   "cell_type": "code",
   "execution_count": 144,
   "metadata": {},
   "outputs": [],
   "source": [
    "# extract year, month and day (not necassary for the question, but probably useful for further analysis)\n",
    "df_calendar['year'] = pd.DatetimeIndex(df_calendar['date']).year\n",
    "df_calendar['month'] = pd.DatetimeIndex(df_calendar['date']).month\n",
    "df_calendar['day'] = pd.DatetimeIndex(df_calendar['date']).day"
   ]
  },
  {
   "cell_type": "code",
   "execution_count": 145,
   "metadata": {},
   "outputs": [],
   "source": [
    "# convert price to float\n",
    "df_calendar['price'] = pd.to_numeric(df_calendar['price'].str.replace('\\W', ''))/100\n",
    "\n"
   ]
  },
  {
   "cell_type": "code",
   "execution_count": 146,
   "metadata": {},
   "outputs": [],
   "source": [
    "# fill NAs: mean does not make sence, not filled prices should be the same as the entry before -> ffill method\n",
    "df_calendar['price'] = df_calendar['price'].fillna(method='ffill')"
   ]
  },
  {
   "cell_type": "code",
   "execution_count": 147,
   "metadata": {},
   "outputs": [
    {
     "data": {
      "text/html": [
       "<div>\n",
       "<style scoped>\n",
       "    .dataframe tbody tr th:only-of-type {\n",
       "        vertical-align: middle;\n",
       "    }\n",
       "\n",
       "    .dataframe tbody tr th {\n",
       "        vertical-align: top;\n",
       "    }\n",
       "\n",
       "    .dataframe thead th {\n",
       "        text-align: right;\n",
       "    }\n",
       "</style>\n",
       "<table border=\"1\" class=\"dataframe\">\n",
       "  <thead>\n",
       "    <tr style=\"text-align: right;\">\n",
       "      <th></th>\n",
       "      <th>listing_id</th>\n",
       "      <th>date</th>\n",
       "      <th>available</th>\n",
       "      <th>price</th>\n",
       "      <th>year</th>\n",
       "      <th>month</th>\n",
       "      <th>day</th>\n",
       "    </tr>\n",
       "  </thead>\n",
       "  <tbody>\n",
       "    <tr>\n",
       "      <th>0</th>\n",
       "      <td>241032</td>\n",
       "      <td>2016-01-04</td>\n",
       "      <td>1</td>\n",
       "      <td>85.0</td>\n",
       "      <td>2016</td>\n",
       "      <td>1</td>\n",
       "      <td>4</td>\n",
       "    </tr>\n",
       "    <tr>\n",
       "      <th>1</th>\n",
       "      <td>241032</td>\n",
       "      <td>2016-01-05</td>\n",
       "      <td>1</td>\n",
       "      <td>85.0</td>\n",
       "      <td>2016</td>\n",
       "      <td>1</td>\n",
       "      <td>5</td>\n",
       "    </tr>\n",
       "    <tr>\n",
       "      <th>2</th>\n",
       "      <td>241032</td>\n",
       "      <td>2016-01-06</td>\n",
       "      <td>0</td>\n",
       "      <td>85.0</td>\n",
       "      <td>2016</td>\n",
       "      <td>1</td>\n",
       "      <td>6</td>\n",
       "    </tr>\n",
       "    <tr>\n",
       "      <th>3</th>\n",
       "      <td>241032</td>\n",
       "      <td>2016-01-07</td>\n",
       "      <td>0</td>\n",
       "      <td>85.0</td>\n",
       "      <td>2016</td>\n",
       "      <td>1</td>\n",
       "      <td>7</td>\n",
       "    </tr>\n",
       "    <tr>\n",
       "      <th>4</th>\n",
       "      <td>241032</td>\n",
       "      <td>2016-01-08</td>\n",
       "      <td>0</td>\n",
       "      <td>85.0</td>\n",
       "      <td>2016</td>\n",
       "      <td>1</td>\n",
       "      <td>8</td>\n",
       "    </tr>\n",
       "  </tbody>\n",
       "</table>\n",
       "</div>"
      ],
      "text/plain": [
       "   listing_id        date  available  price  year  month  day\n",
       "0      241032  2016-01-04          1   85.0  2016      1    4\n",
       "1      241032  2016-01-05          1   85.0  2016      1    5\n",
       "2      241032  2016-01-06          0   85.0  2016      1    6\n",
       "3      241032  2016-01-07          0   85.0  2016      1    7\n",
       "4      241032  2016-01-08          0   85.0  2016      1    8"
      ]
     },
     "execution_count": 147,
     "metadata": {},
     "output_type": "execute_result"
    }
   ],
   "source": [
    "df_calendar.head()"
   ]
  },
  {
   "cell_type": "markdown",
   "metadata": {},
   "source": [
    "### main work: df_listings"
   ]
  },
  {
   "cell_type": "code",
   "execution_count": 148,
   "metadata": {},
   "outputs": [
    {
     "data": {
      "text/plain": [
       "license             3818\n",
       "square_feet         3721\n",
       "monthly_price       2301\n",
       "security_deposit    1952\n",
       "weekly_price        1809\n",
       "                    ... \n",
       "accommodates           0\n",
       "bed_type               0\n",
       "amenities              0\n",
       "price                  0\n",
       "id                     0\n",
       "Length: 92, dtype: int64"
      ]
     },
     "execution_count": 148,
     "metadata": {},
     "output_type": "execute_result"
    }
   ],
   "source": [
    "df_listings.isna().sum().sort_values(ascending=False)"
   ]
  },
  {
   "cell_type": "markdown",
   "metadata": {},
   "source": [
    "There are some columns where most of the entries are missing. For none of the top ones there is a good practice to fill NAs. Let's see for which columns at least 50% of the data is missing."
   ]
  },
  {
   "cell_type": "code",
   "execution_count": 149,
   "metadata": {},
   "outputs": [],
   "source": [
    "# remove these columns\n",
    "missing_columns = df_listings.columns[df_listings.isna().mean()>0.5]\n",
    "df_listings = df_listings.drop(columns = missing_columns)"
   ]
  },
  {
   "cell_type": "code",
   "execution_count": 150,
   "metadata": {},
   "outputs": [
    {
     "data": {
      "text/plain": [
       "(3818, 88)"
      ]
     },
     "execution_count": 150,
     "metadata": {},
     "output_type": "execute_result"
    }
   ],
   "source": [
    "df_listings.shape"
   ]
  },
  {
   "cell_type": "markdown",
   "metadata": {},
   "source": [
    "Are there any other columns of type object which should be float? Seems like host_response_rate, host_acceptance_rate, host_is_superhost, price and cleaning fee are candidates."
   ]
  },
  {
   "cell_type": "code",
   "execution_count": 151,
   "metadata": {},
   "outputs": [
    {
     "data": {
      "text/plain": [
       "Index(['listing_url', 'last_scraped', 'name', 'summary', 'space',\n",
       "       'description', 'experiences_offered', 'neighborhood_overview', 'notes',\n",
       "       'transit', 'thumbnail_url', 'medium_url', 'picture_url',\n",
       "       'xl_picture_url', 'host_url', 'host_name', 'host_since',\n",
       "       'host_location', 'host_about', 'host_response_time',\n",
       "       'host_response_rate', 'host_acceptance_rate', 'host_is_superhost',\n",
       "       'host_thumbnail_url', 'host_picture_url', 'host_neighbourhood',\n",
       "       'host_verifications', 'host_has_profile_pic', 'host_identity_verified',\n",
       "       'street', 'neighbourhood', 'neighbourhood_cleansed',\n",
       "       'neighbourhood_group_cleansed', 'city', 'state', 'zipcode', 'market',\n",
       "       'smart_location', 'country_code', 'country', 'is_location_exact',\n",
       "       'property_type', 'room_type', 'bed_type', 'amenities', 'price',\n",
       "       'weekly_price', 'cleaning_fee', 'extra_people', 'calendar_updated',\n",
       "       'has_availability', 'calendar_last_scraped', 'first_review',\n",
       "       'last_review', 'requires_license', 'jurisdiction_names',\n",
       "       'instant_bookable', 'cancellation_policy',\n",
       "       'require_guest_profile_picture', 'require_guest_phone_verification'],\n",
       "      dtype='object')"
      ]
     },
     "execution_count": 151,
     "metadata": {},
     "output_type": "execute_result"
    }
   ],
   "source": [
    "df_listings.select_dtypes(['object']).columns"
   ]
  },
  {
   "cell_type": "code",
   "execution_count": 152,
   "metadata": {},
   "outputs": [
    {
     "name": "stdout",
     "output_type": "stream",
     "text": [
      "0\n"
     ]
    }
   ],
   "source": [
    "# starting with the price and there are no missing values\n",
    "df_listings.price = pd.to_numeric(df_listings.price.str.replace('\\W', ''))/100\n",
    "print(df_listings.price.isnull().sum())\n"
   ]
  },
  {
   "cell_type": "code",
   "execution_count": 153,
   "metadata": {},
   "outputs": [],
   "source": [
    "# response rate, acceptance rate, is superhost, cleaning fee \n",
    "df_listings.host_response_rate = pd.to_numeric(df_listings.host_response_rate.str.replace('\\W', ''))/100\n",
    "df_listings.host_acceptance_rate = pd.to_numeric(df_listings.host_acceptance_rate.str.replace('\\W', ''))/100\n",
    "df_listings.host_is_superhost.replace(['t', 'f'], [1,0], inplace = True)\n",
    "df_listings.cleaning_fee = pd.to_numeric(df_listings.cleaning_fee.str.replace('\\W', ''))/100"
   ]
  },
  {
   "cell_type": "code",
   "execution_count": 154,
   "metadata": {},
   "outputs": [
    {
     "data": {
      "text/plain": [
       "0"
      ]
     },
     "execution_count": 154,
     "metadata": {},
     "output_type": "execute_result"
    }
   ],
   "source": [
    "# for superhost it makes sense to replace the missing values with 0, for all others, all others can be filled with the mean\n",
    "df_listings.host_is_superhost = df_listings.host_is_superhost.fillna(0)\n",
    "df_listings.host_is_superhost.isnull().sum()\n"
   ]
  },
  {
   "cell_type": "markdown",
   "metadata": {},
   "source": [
    "There might also be some categorical variables which we should transform to dummies. Property type and bed type have many different values and there are a lot values not ocurring very often, so let's try with room type. "
   ]
  },
  {
   "cell_type": "code",
   "execution_count": 155,
   "metadata": {},
   "outputs": [
    {
     "data": {
      "text/html": [
       "<div>\n",
       "<style scoped>\n",
       "    .dataframe tbody tr th:only-of-type {\n",
       "        vertical-align: middle;\n",
       "    }\n",
       "\n",
       "    .dataframe tbody tr th {\n",
       "        vertical-align: top;\n",
       "    }\n",
       "\n",
       "    .dataframe thead th {\n",
       "        text-align: right;\n",
       "    }\n",
       "</style>\n",
       "<table border=\"1\" class=\"dataframe\">\n",
       "  <thead>\n",
       "    <tr style=\"text-align: right;\">\n",
       "      <th></th>\n",
       "      <th>id</th>\n",
       "      <th>listing_url</th>\n",
       "      <th>scrape_id</th>\n",
       "      <th>last_scraped</th>\n",
       "      <th>name</th>\n",
       "      <th>summary</th>\n",
       "      <th>space</th>\n",
       "      <th>description</th>\n",
       "      <th>experiences_offered</th>\n",
       "      <th>neighborhood_overview</th>\n",
       "      <th>...</th>\n",
       "      <th>jurisdiction_names</th>\n",
       "      <th>instant_bookable</th>\n",
       "      <th>cancellation_policy</th>\n",
       "      <th>require_guest_profile_picture</th>\n",
       "      <th>require_guest_phone_verification</th>\n",
       "      <th>calculated_host_listings_count</th>\n",
       "      <th>reviews_per_month</th>\n",
       "      <th>Entire home/apt</th>\n",
       "      <th>Private room</th>\n",
       "      <th>Shared room</th>\n",
       "    </tr>\n",
       "  </thead>\n",
       "  <tbody>\n",
       "    <tr>\n",
       "      <th>0</th>\n",
       "      <td>241032</td>\n",
       "      <td>https://www.airbnb.com/rooms/241032</td>\n",
       "      <td>20160104002432</td>\n",
       "      <td>2016-01-04</td>\n",
       "      <td>Stylish Queen Anne Apartment</td>\n",
       "      <td>NaN</td>\n",
       "      <td>Make your self at home in this charming one-be...</td>\n",
       "      <td>Make your self at home in this charming one-be...</td>\n",
       "      <td>none</td>\n",
       "      <td>NaN</td>\n",
       "      <td>...</td>\n",
       "      <td>WASHINGTON</td>\n",
       "      <td>f</td>\n",
       "      <td>moderate</td>\n",
       "      <td>f</td>\n",
       "      <td>f</td>\n",
       "      <td>2</td>\n",
       "      <td>4.07</td>\n",
       "      <td>1</td>\n",
       "      <td>0</td>\n",
       "      <td>0</td>\n",
       "    </tr>\n",
       "    <tr>\n",
       "      <th>1</th>\n",
       "      <td>953595</td>\n",
       "      <td>https://www.airbnb.com/rooms/953595</td>\n",
       "      <td>20160104002432</td>\n",
       "      <td>2016-01-04</td>\n",
       "      <td>Bright &amp; Airy Queen Anne Apartment</td>\n",
       "      <td>Chemically sensitive? We've removed the irrita...</td>\n",
       "      <td>Beautiful, hypoallergenic apartment in an extr...</td>\n",
       "      <td>Chemically sensitive? We've removed the irrita...</td>\n",
       "      <td>none</td>\n",
       "      <td>Queen Anne is a wonderful, truly functional vi...</td>\n",
       "      <td>...</td>\n",
       "      <td>WASHINGTON</td>\n",
       "      <td>f</td>\n",
       "      <td>strict</td>\n",
       "      <td>t</td>\n",
       "      <td>t</td>\n",
       "      <td>6</td>\n",
       "      <td>1.48</td>\n",
       "      <td>1</td>\n",
       "      <td>0</td>\n",
       "      <td>0</td>\n",
       "    </tr>\n",
       "    <tr>\n",
       "      <th>2</th>\n",
       "      <td>3308979</td>\n",
       "      <td>https://www.airbnb.com/rooms/3308979</td>\n",
       "      <td>20160104002432</td>\n",
       "      <td>2016-01-04</td>\n",
       "      <td>New Modern House-Amazing water view</td>\n",
       "      <td>New modern house built in 2013.  Spectacular s...</td>\n",
       "      <td>Our house is modern, light and fresh with a wa...</td>\n",
       "      <td>New modern house built in 2013.  Spectacular s...</td>\n",
       "      <td>none</td>\n",
       "      <td>Upper Queen Anne is a charming neighborhood fu...</td>\n",
       "      <td>...</td>\n",
       "      <td>WASHINGTON</td>\n",
       "      <td>f</td>\n",
       "      <td>strict</td>\n",
       "      <td>f</td>\n",
       "      <td>f</td>\n",
       "      <td>2</td>\n",
       "      <td>1.15</td>\n",
       "      <td>1</td>\n",
       "      <td>0</td>\n",
       "      <td>0</td>\n",
       "    </tr>\n",
       "    <tr>\n",
       "      <th>3</th>\n",
       "      <td>7421966</td>\n",
       "      <td>https://www.airbnb.com/rooms/7421966</td>\n",
       "      <td>20160104002432</td>\n",
       "      <td>2016-01-04</td>\n",
       "      <td>Queen Anne Chateau</td>\n",
       "      <td>A charming apartment that sits atop Queen Anne...</td>\n",
       "      <td>NaN</td>\n",
       "      <td>A charming apartment that sits atop Queen Anne...</td>\n",
       "      <td>none</td>\n",
       "      <td>NaN</td>\n",
       "      <td>...</td>\n",
       "      <td>WASHINGTON</td>\n",
       "      <td>f</td>\n",
       "      <td>flexible</td>\n",
       "      <td>f</td>\n",
       "      <td>f</td>\n",
       "      <td>1</td>\n",
       "      <td>NaN</td>\n",
       "      <td>1</td>\n",
       "      <td>0</td>\n",
       "      <td>0</td>\n",
       "    </tr>\n",
       "    <tr>\n",
       "      <th>4</th>\n",
       "      <td>278830</td>\n",
       "      <td>https://www.airbnb.com/rooms/278830</td>\n",
       "      <td>20160104002432</td>\n",
       "      <td>2016-01-04</td>\n",
       "      <td>Charming craftsman 3 bdm house</td>\n",
       "      <td>Cozy family craftman house in beautiful neighb...</td>\n",
       "      <td>Cozy family craftman house in beautiful neighb...</td>\n",
       "      <td>Cozy family craftman house in beautiful neighb...</td>\n",
       "      <td>none</td>\n",
       "      <td>We are in the beautiful neighborhood of Queen ...</td>\n",
       "      <td>...</td>\n",
       "      <td>WASHINGTON</td>\n",
       "      <td>f</td>\n",
       "      <td>strict</td>\n",
       "      <td>f</td>\n",
       "      <td>f</td>\n",
       "      <td>1</td>\n",
       "      <td>0.89</td>\n",
       "      <td>1</td>\n",
       "      <td>0</td>\n",
       "      <td>0</td>\n",
       "    </tr>\n",
       "  </tbody>\n",
       "</table>\n",
       "<p>5 rows × 90 columns</p>\n",
       "</div>"
      ],
      "text/plain": [
       "        id                           listing_url       scrape_id last_scraped  \\\n",
       "0   241032   https://www.airbnb.com/rooms/241032  20160104002432   2016-01-04   \n",
       "1   953595   https://www.airbnb.com/rooms/953595  20160104002432   2016-01-04   \n",
       "2  3308979  https://www.airbnb.com/rooms/3308979  20160104002432   2016-01-04   \n",
       "3  7421966  https://www.airbnb.com/rooms/7421966  20160104002432   2016-01-04   \n",
       "4   278830   https://www.airbnb.com/rooms/278830  20160104002432   2016-01-04   \n",
       "\n",
       "                                  name  \\\n",
       "0         Stylish Queen Anne Apartment   \n",
       "1   Bright & Airy Queen Anne Apartment   \n",
       "2  New Modern House-Amazing water view   \n",
       "3                   Queen Anne Chateau   \n",
       "4       Charming craftsman 3 bdm house   \n",
       "\n",
       "                                             summary  \\\n",
       "0                                                NaN   \n",
       "1  Chemically sensitive? We've removed the irrita...   \n",
       "2  New modern house built in 2013.  Spectacular s...   \n",
       "3  A charming apartment that sits atop Queen Anne...   \n",
       "4  Cozy family craftman house in beautiful neighb...   \n",
       "\n",
       "                                               space  \\\n",
       "0  Make your self at home in this charming one-be...   \n",
       "1  Beautiful, hypoallergenic apartment in an extr...   \n",
       "2  Our house is modern, light and fresh with a wa...   \n",
       "3                                                NaN   \n",
       "4  Cozy family craftman house in beautiful neighb...   \n",
       "\n",
       "                                         description experiences_offered  \\\n",
       "0  Make your self at home in this charming one-be...                none   \n",
       "1  Chemically sensitive? We've removed the irrita...                none   \n",
       "2  New modern house built in 2013.  Spectacular s...                none   \n",
       "3  A charming apartment that sits atop Queen Anne...                none   \n",
       "4  Cozy family craftman house in beautiful neighb...                none   \n",
       "\n",
       "                               neighborhood_overview  ... jurisdiction_names  \\\n",
       "0                                                NaN  ...         WASHINGTON   \n",
       "1  Queen Anne is a wonderful, truly functional vi...  ...         WASHINGTON   \n",
       "2  Upper Queen Anne is a charming neighborhood fu...  ...         WASHINGTON   \n",
       "3                                                NaN  ...         WASHINGTON   \n",
       "4  We are in the beautiful neighborhood of Queen ...  ...         WASHINGTON   \n",
       "\n",
       "  instant_bookable cancellation_policy require_guest_profile_picture  \\\n",
       "0                f            moderate                             f   \n",
       "1                f              strict                             t   \n",
       "2                f              strict                             f   \n",
       "3                f            flexible                             f   \n",
       "4                f              strict                             f   \n",
       "\n",
       "  require_guest_phone_verification calculated_host_listings_count  \\\n",
       "0                                f                              2   \n",
       "1                                t                              6   \n",
       "2                                f                              2   \n",
       "3                                f                              1   \n",
       "4                                f                              1   \n",
       "\n",
       "   reviews_per_month Entire home/apt Private room Shared room  \n",
       "0               4.07               1            0           0  \n",
       "1               1.48               1            0           0  \n",
       "2               1.15               1            0           0  \n",
       "3                NaN               1            0           0  \n",
       "4               0.89               1            0           0  \n",
       "\n",
       "[5 rows x 90 columns]"
      ]
     },
     "execution_count": 155,
     "metadata": {},
     "output_type": "execute_result"
    }
   ],
   "source": [
    "# get dummy variables for room_type and replace the columns in the dataset\n",
    "room_dummies = pd.get_dummies(df_listings.room_type)\n",
    "df_listings = df_listings.drop(['room_type'], axis=1)\n",
    "df_listings = pd.concat([df_listings, room_dummies], axis=1)\n",
    "df_listings.head()"
   ]
  },
  {
   "cell_type": "markdown",
   "metadata": {},
   "source": [
    "In the next step we fill the missing values in object type columns with the mode and in numeric columns with the mean and receive a data set we can work with."
   ]
  },
  {
   "cell_type": "code",
   "execution_count": 156,
   "metadata": {},
   "outputs": [
    {
     "name": "stdout",
     "output_type": "stream",
     "text": [
      "id                                0\n",
      "scrape_id                         0\n",
      "host_id                           0\n",
      "host_response_rate                0\n",
      "host_acceptance_rate              0\n",
      "host_is_superhost                 0\n",
      "host_listings_count               0\n",
      "host_total_listings_count         0\n",
      "latitude                          0\n",
      "longitude                         0\n",
      "accommodates                      0\n",
      "bathrooms                         0\n",
      "bedrooms                          0\n",
      "beds                              0\n",
      "price                             0\n",
      "cleaning_fee                      0\n",
      "guests_included                   0\n",
      "minimum_nights                    0\n",
      "maximum_nights                    0\n",
      "availability_30                   0\n",
      "availability_60                   0\n",
      "availability_90                   0\n",
      "availability_365                  0\n",
      "number_of_reviews                 0\n",
      "review_scores_rating              0\n",
      "review_scores_accuracy            0\n",
      "review_scores_cleanliness         0\n",
      "review_scores_checkin             0\n",
      "review_scores_communication       0\n",
      "review_scores_location            0\n",
      "review_scores_value               0\n",
      "calculated_host_listings_count    0\n",
      "reviews_per_month                 0\n",
      "dtype: int64\n"
     ]
    },
    {
     "data": {
      "text/html": [
       "<div>\n",
       "<style scoped>\n",
       "    .dataframe tbody tr th:only-of-type {\n",
       "        vertical-align: middle;\n",
       "    }\n",
       "\n",
       "    .dataframe tbody tr th {\n",
       "        vertical-align: top;\n",
       "    }\n",
       "\n",
       "    .dataframe thead th {\n",
       "        text-align: right;\n",
       "    }\n",
       "</style>\n",
       "<table border=\"1\" class=\"dataframe\">\n",
       "  <thead>\n",
       "    <tr style=\"text-align: right;\">\n",
       "      <th></th>\n",
       "      <th>id</th>\n",
       "      <th>scrape_id</th>\n",
       "      <th>host_id</th>\n",
       "      <th>host_response_rate</th>\n",
       "      <th>host_acceptance_rate</th>\n",
       "      <th>host_is_superhost</th>\n",
       "      <th>host_listings_count</th>\n",
       "      <th>host_total_listings_count</th>\n",
       "      <th>latitude</th>\n",
       "      <th>longitude</th>\n",
       "      <th>...</th>\n",
       "      <th>number_of_reviews</th>\n",
       "      <th>review_scores_rating</th>\n",
       "      <th>review_scores_accuracy</th>\n",
       "      <th>review_scores_cleanliness</th>\n",
       "      <th>review_scores_checkin</th>\n",
       "      <th>review_scores_communication</th>\n",
       "      <th>review_scores_location</th>\n",
       "      <th>review_scores_value</th>\n",
       "      <th>calculated_host_listings_count</th>\n",
       "      <th>reviews_per_month</th>\n",
       "    </tr>\n",
       "  </thead>\n",
       "  <tbody>\n",
       "    <tr>\n",
       "      <th>0</th>\n",
       "      <td>241032</td>\n",
       "      <td>20160104002432</td>\n",
       "      <td>956883</td>\n",
       "      <td>0.960000</td>\n",
       "      <td>1.000000</td>\n",
       "      <td>0.0</td>\n",
       "      <td>3.0</td>\n",
       "      <td>3.0</td>\n",
       "      <td>47.636289</td>\n",
       "      <td>-122.371025</td>\n",
       "      <td>...</td>\n",
       "      <td>207</td>\n",
       "      <td>95.000000</td>\n",
       "      <td>10.000000</td>\n",
       "      <td>10.000000</td>\n",
       "      <td>10.000000</td>\n",
       "      <td>10.000000</td>\n",
       "      <td>9.000000</td>\n",
       "      <td>10.000000</td>\n",
       "      <td>2</td>\n",
       "      <td>4.070000</td>\n",
       "    </tr>\n",
       "    <tr>\n",
       "      <th>1</th>\n",
       "      <td>953595</td>\n",
       "      <td>20160104002432</td>\n",
       "      <td>5177328</td>\n",
       "      <td>0.980000</td>\n",
       "      <td>1.000000</td>\n",
       "      <td>1.0</td>\n",
       "      <td>6.0</td>\n",
       "      <td>6.0</td>\n",
       "      <td>47.639123</td>\n",
       "      <td>-122.365666</td>\n",
       "      <td>...</td>\n",
       "      <td>43</td>\n",
       "      <td>96.000000</td>\n",
       "      <td>10.000000</td>\n",
       "      <td>10.000000</td>\n",
       "      <td>10.000000</td>\n",
       "      <td>10.000000</td>\n",
       "      <td>10.000000</td>\n",
       "      <td>10.000000</td>\n",
       "      <td>6</td>\n",
       "      <td>1.480000</td>\n",
       "    </tr>\n",
       "    <tr>\n",
       "      <th>2</th>\n",
       "      <td>3308979</td>\n",
       "      <td>20160104002432</td>\n",
       "      <td>16708587</td>\n",
       "      <td>0.670000</td>\n",
       "      <td>1.000000</td>\n",
       "      <td>0.0</td>\n",
       "      <td>2.0</td>\n",
       "      <td>2.0</td>\n",
       "      <td>47.629724</td>\n",
       "      <td>-122.369483</td>\n",
       "      <td>...</td>\n",
       "      <td>20</td>\n",
       "      <td>97.000000</td>\n",
       "      <td>10.000000</td>\n",
       "      <td>10.000000</td>\n",
       "      <td>10.000000</td>\n",
       "      <td>10.000000</td>\n",
       "      <td>10.000000</td>\n",
       "      <td>10.000000</td>\n",
       "      <td>2</td>\n",
       "      <td>1.150000</td>\n",
       "    </tr>\n",
       "    <tr>\n",
       "      <th>3</th>\n",
       "      <td>7421966</td>\n",
       "      <td>20160104002432</td>\n",
       "      <td>9851441</td>\n",
       "      <td>0.948868</td>\n",
       "      <td>0.999672</td>\n",
       "      <td>0.0</td>\n",
       "      <td>1.0</td>\n",
       "      <td>1.0</td>\n",
       "      <td>47.638473</td>\n",
       "      <td>-122.369279</td>\n",
       "      <td>...</td>\n",
       "      <td>0</td>\n",
       "      <td>94.539262</td>\n",
       "      <td>9.636392</td>\n",
       "      <td>9.556398</td>\n",
       "      <td>9.786709</td>\n",
       "      <td>9.809599</td>\n",
       "      <td>9.608916</td>\n",
       "      <td>9.452245</td>\n",
       "      <td>1</td>\n",
       "      <td>2.078919</td>\n",
       "    </tr>\n",
       "    <tr>\n",
       "      <th>4</th>\n",
       "      <td>278830</td>\n",
       "      <td>20160104002432</td>\n",
       "      <td>1452570</td>\n",
       "      <td>1.000000</td>\n",
       "      <td>0.999672</td>\n",
       "      <td>0.0</td>\n",
       "      <td>2.0</td>\n",
       "      <td>2.0</td>\n",
       "      <td>47.632918</td>\n",
       "      <td>-122.372471</td>\n",
       "      <td>...</td>\n",
       "      <td>38</td>\n",
       "      <td>92.000000</td>\n",
       "      <td>9.000000</td>\n",
       "      <td>9.000000</td>\n",
       "      <td>10.000000</td>\n",
       "      <td>10.000000</td>\n",
       "      <td>9.000000</td>\n",
       "      <td>9.000000</td>\n",
       "      <td>1</td>\n",
       "      <td>0.890000</td>\n",
       "    </tr>\n",
       "  </tbody>\n",
       "</table>\n",
       "<p>5 rows × 33 columns</p>\n",
       "</div>"
      ],
      "text/plain": [
       "        id       scrape_id   host_id  host_response_rate  \\\n",
       "0   241032  20160104002432    956883            0.960000   \n",
       "1   953595  20160104002432   5177328            0.980000   \n",
       "2  3308979  20160104002432  16708587            0.670000   \n",
       "3  7421966  20160104002432   9851441            0.948868   \n",
       "4   278830  20160104002432   1452570            1.000000   \n",
       "\n",
       "   host_acceptance_rate  host_is_superhost  host_listings_count  \\\n",
       "0              1.000000                0.0                  3.0   \n",
       "1              1.000000                1.0                  6.0   \n",
       "2              1.000000                0.0                  2.0   \n",
       "3              0.999672                0.0                  1.0   \n",
       "4              0.999672                0.0                  2.0   \n",
       "\n",
       "   host_total_listings_count   latitude   longitude  ...  number_of_reviews  \\\n",
       "0                        3.0  47.636289 -122.371025  ...                207   \n",
       "1                        6.0  47.639123 -122.365666  ...                 43   \n",
       "2                        2.0  47.629724 -122.369483  ...                 20   \n",
       "3                        1.0  47.638473 -122.369279  ...                  0   \n",
       "4                        2.0  47.632918 -122.372471  ...                 38   \n",
       "\n",
       "   review_scores_rating  review_scores_accuracy  review_scores_cleanliness  \\\n",
       "0             95.000000               10.000000                  10.000000   \n",
       "1             96.000000               10.000000                  10.000000   \n",
       "2             97.000000               10.000000                  10.000000   \n",
       "3             94.539262                9.636392                   9.556398   \n",
       "4             92.000000                9.000000                   9.000000   \n",
       "\n",
       "   review_scores_checkin  review_scores_communication  review_scores_location  \\\n",
       "0              10.000000                    10.000000                9.000000   \n",
       "1              10.000000                    10.000000               10.000000   \n",
       "2              10.000000                    10.000000               10.000000   \n",
       "3               9.786709                     9.809599                9.608916   \n",
       "4              10.000000                    10.000000                9.000000   \n",
       "\n",
       "   review_scores_value  calculated_host_listings_count  reviews_per_month  \n",
       "0            10.000000                               2           4.070000  \n",
       "1            10.000000                               6           1.480000  \n",
       "2            10.000000                               2           1.150000  \n",
       "3             9.452245                               1           2.078919  \n",
       "4             9.000000                               1           0.890000  \n",
       "\n",
       "[5 rows x 33 columns]"
      ]
     },
     "execution_count": 156,
     "metadata": {},
     "output_type": "execute_result"
    }
   ],
   "source": [
    "# starting with numeric type columns \n",
    "numeric_cols = df_listings.select_dtypes(['float64', 'int64']).columns\n",
    "\n",
    "# for numeric columns replace NAs with the mean of the column\n",
    "for i in numeric_cols:\n",
    "    df_listings[i].fillna(df_listings[i].mean(), inplace = True)\n",
    "\n",
    "# have a look at the data whether it worked\n",
    "print(df_listings.select_dtypes(['float64', 'int64']).head().isna().sum())\n",
    "df_listings.select_dtypes(['float64', 'int64']).head()"
   ]
  },
  {
   "cell_type": "code",
   "execution_count": 157,
   "metadata": {},
   "outputs": [
    {
     "name": "stdout",
     "output_type": "stream",
     "text": [
      "listing_url                         0\n",
      "last_scraped                        0\n",
      "name                                0\n",
      "summary                             0\n",
      "space                               0\n",
      "description                         0\n",
      "experiences_offered                 0\n",
      "neighborhood_overview               0\n",
      "notes                               0\n",
      "transit                             0\n",
      "thumbnail_url                       0\n",
      "medium_url                          0\n",
      "picture_url                         0\n",
      "xl_picture_url                      0\n",
      "host_url                            0\n",
      "host_name                           0\n",
      "host_since                          0\n",
      "host_location                       0\n",
      "host_about                          0\n",
      "host_response_time                  0\n",
      "host_thumbnail_url                  0\n",
      "host_picture_url                    0\n",
      "host_neighbourhood                  0\n",
      "host_verifications                  0\n",
      "host_has_profile_pic                0\n",
      "host_identity_verified              0\n",
      "street                              0\n",
      "neighbourhood                       0\n",
      "neighbourhood_cleansed              0\n",
      "neighbourhood_group_cleansed        0\n",
      "city                                0\n",
      "state                               0\n",
      "zipcode                             0\n",
      "market                              0\n",
      "smart_location                      0\n",
      "country_code                        0\n",
      "country                             0\n",
      "is_location_exact                   0\n",
      "property_type                       0\n",
      "bed_type                            0\n",
      "amenities                           0\n",
      "weekly_price                        0\n",
      "extra_people                        0\n",
      "calendar_updated                    0\n",
      "has_availability                    0\n",
      "calendar_last_scraped               0\n",
      "first_review                        0\n",
      "last_review                         0\n",
      "requires_license                    0\n",
      "jurisdiction_names                  0\n",
      "instant_bookable                    0\n",
      "cancellation_policy                 0\n",
      "require_guest_profile_picture       0\n",
      "require_guest_phone_verification    0\n",
      "dtype: int64\n"
     ]
    },
    {
     "data": {
      "text/html": [
       "<div>\n",
       "<style scoped>\n",
       "    .dataframe tbody tr th:only-of-type {\n",
       "        vertical-align: middle;\n",
       "    }\n",
       "\n",
       "    .dataframe tbody tr th {\n",
       "        vertical-align: top;\n",
       "    }\n",
       "\n",
       "    .dataframe thead th {\n",
       "        text-align: right;\n",
       "    }\n",
       "</style>\n",
       "<table border=\"1\" class=\"dataframe\">\n",
       "  <thead>\n",
       "    <tr style=\"text-align: right;\">\n",
       "      <th></th>\n",
       "      <th>listing_url</th>\n",
       "      <th>last_scraped</th>\n",
       "      <th>name</th>\n",
       "      <th>summary</th>\n",
       "      <th>space</th>\n",
       "      <th>description</th>\n",
       "      <th>experiences_offered</th>\n",
       "      <th>neighborhood_overview</th>\n",
       "      <th>notes</th>\n",
       "      <th>transit</th>\n",
       "      <th>...</th>\n",
       "      <th>has_availability</th>\n",
       "      <th>calendar_last_scraped</th>\n",
       "      <th>first_review</th>\n",
       "      <th>last_review</th>\n",
       "      <th>requires_license</th>\n",
       "      <th>jurisdiction_names</th>\n",
       "      <th>instant_bookable</th>\n",
       "      <th>cancellation_policy</th>\n",
       "      <th>require_guest_profile_picture</th>\n",
       "      <th>require_guest_phone_verification</th>\n",
       "    </tr>\n",
       "  </thead>\n",
       "  <tbody>\n",
       "    <tr>\n",
       "      <th>0</th>\n",
       "      <td>https://www.airbnb.com/rooms/241032</td>\n",
       "      <td>2016-01-04</td>\n",
       "      <td>Stylish Queen Anne Apartment</td>\n",
       "      <td>This is a modern fully-furnished studio apartm...</td>\n",
       "      <td>Make your self at home in this charming one-be...</td>\n",
       "      <td>Make your self at home in this charming one-be...</td>\n",
       "      <td>none</td>\n",
       "      <td>Wallingford is a mostly-residential neighborho...</td>\n",
       "      <td>All of our rentals are fully licensed and regu...</td>\n",
       "      <td>Convenient public transportation. The location...</td>\n",
       "      <td>...</td>\n",
       "      <td>t</td>\n",
       "      <td>2016-01-04</td>\n",
       "      <td>2011-11-01</td>\n",
       "      <td>2016-01-02</td>\n",
       "      <td>f</td>\n",
       "      <td>WASHINGTON</td>\n",
       "      <td>f</td>\n",
       "      <td>moderate</td>\n",
       "      <td>f</td>\n",
       "      <td>f</td>\n",
       "    </tr>\n",
       "    <tr>\n",
       "      <th>1</th>\n",
       "      <td>https://www.airbnb.com/rooms/953595</td>\n",
       "      <td>2016-01-04</td>\n",
       "      <td>Bright &amp; Airy Queen Anne Apartment</td>\n",
       "      <td>Chemically sensitive? We've removed the irrita...</td>\n",
       "      <td>Beautiful, hypoallergenic apartment in an extr...</td>\n",
       "      <td>Chemically sensitive? We've removed the irrita...</td>\n",
       "      <td>none</td>\n",
       "      <td>Queen Anne is a wonderful, truly functional vi...</td>\n",
       "      <td>What's up with the free pillows?  Our home was...</td>\n",
       "      <td>Convenient bus stops are just down the block, ...</td>\n",
       "      <td>...</td>\n",
       "      <td>t</td>\n",
       "      <td>2016-01-04</td>\n",
       "      <td>2013-08-19</td>\n",
       "      <td>2015-12-29</td>\n",
       "      <td>f</td>\n",
       "      <td>WASHINGTON</td>\n",
       "      <td>f</td>\n",
       "      <td>strict</td>\n",
       "      <td>t</td>\n",
       "      <td>t</td>\n",
       "    </tr>\n",
       "    <tr>\n",
       "      <th>2</th>\n",
       "      <td>https://www.airbnb.com/rooms/3308979</td>\n",
       "      <td>2016-01-04</td>\n",
       "      <td>New Modern House-Amazing water view</td>\n",
       "      <td>New modern house built in 2013.  Spectacular s...</td>\n",
       "      <td>Our house is modern, light and fresh with a wa...</td>\n",
       "      <td>New modern house built in 2013.  Spectacular s...</td>\n",
       "      <td>none</td>\n",
       "      <td>Upper Queen Anne is a charming neighborhood fu...</td>\n",
       "      <td>Our house is located just 5 short blocks to To...</td>\n",
       "      <td>A bus stop is just 2 blocks away.   Easy bus a...</td>\n",
       "      <td>...</td>\n",
       "      <td>t</td>\n",
       "      <td>2016-01-04</td>\n",
       "      <td>2014-07-30</td>\n",
       "      <td>2015-09-03</td>\n",
       "      <td>f</td>\n",
       "      <td>WASHINGTON</td>\n",
       "      <td>f</td>\n",
       "      <td>strict</td>\n",
       "      <td>f</td>\n",
       "      <td>f</td>\n",
       "    </tr>\n",
       "    <tr>\n",
       "      <th>3</th>\n",
       "      <td>https://www.airbnb.com/rooms/7421966</td>\n",
       "      <td>2016-01-04</td>\n",
       "      <td>Queen Anne Chateau</td>\n",
       "      <td>A charming apartment that sits atop Queen Anne...</td>\n",
       "      <td>*Note: This fall, there will be major renovati...</td>\n",
       "      <td>A charming apartment that sits atop Queen Anne...</td>\n",
       "      <td>none</td>\n",
       "      <td>Wallingford is a mostly-residential neighborho...</td>\n",
       "      <td>All of our rentals are fully licensed and regu...</td>\n",
       "      <td>Convenient public transportation. The location...</td>\n",
       "      <td>...</td>\n",
       "      <td>t</td>\n",
       "      <td>2016-01-04</td>\n",
       "      <td>2015-09-21</td>\n",
       "      <td>2016-01-02</td>\n",
       "      <td>f</td>\n",
       "      <td>WASHINGTON</td>\n",
       "      <td>f</td>\n",
       "      <td>flexible</td>\n",
       "      <td>f</td>\n",
       "      <td>f</td>\n",
       "    </tr>\n",
       "    <tr>\n",
       "      <th>4</th>\n",
       "      <td>https://www.airbnb.com/rooms/278830</td>\n",
       "      <td>2016-01-04</td>\n",
       "      <td>Charming craftsman 3 bdm house</td>\n",
       "      <td>Cozy family craftman house in beautiful neighb...</td>\n",
       "      <td>Cozy family craftman house in beautiful neighb...</td>\n",
       "      <td>Cozy family craftman house in beautiful neighb...</td>\n",
       "      <td>none</td>\n",
       "      <td>We are in the beautiful neighborhood of Queen ...</td>\n",
       "      <td>Belltown</td>\n",
       "      <td>The nearest public transit bus (D Line) is 2 b...</td>\n",
       "      <td>...</td>\n",
       "      <td>t</td>\n",
       "      <td>2016-01-04</td>\n",
       "      <td>2012-07-10</td>\n",
       "      <td>2015-10-24</td>\n",
       "      <td>f</td>\n",
       "      <td>WASHINGTON</td>\n",
       "      <td>f</td>\n",
       "      <td>strict</td>\n",
       "      <td>f</td>\n",
       "      <td>f</td>\n",
       "    </tr>\n",
       "  </tbody>\n",
       "</table>\n",
       "<p>5 rows × 54 columns</p>\n",
       "</div>"
      ],
      "text/plain": [
       "                            listing_url last_scraped  \\\n",
       "0   https://www.airbnb.com/rooms/241032   2016-01-04   \n",
       "1   https://www.airbnb.com/rooms/953595   2016-01-04   \n",
       "2  https://www.airbnb.com/rooms/3308979   2016-01-04   \n",
       "3  https://www.airbnb.com/rooms/7421966   2016-01-04   \n",
       "4   https://www.airbnb.com/rooms/278830   2016-01-04   \n",
       "\n",
       "                                  name  \\\n",
       "0         Stylish Queen Anne Apartment   \n",
       "1   Bright & Airy Queen Anne Apartment   \n",
       "2  New Modern House-Amazing water view   \n",
       "3                   Queen Anne Chateau   \n",
       "4       Charming craftsman 3 bdm house   \n",
       "\n",
       "                                             summary  \\\n",
       "0  This is a modern fully-furnished studio apartm...   \n",
       "1  Chemically sensitive? We've removed the irrita...   \n",
       "2  New modern house built in 2013.  Spectacular s...   \n",
       "3  A charming apartment that sits atop Queen Anne...   \n",
       "4  Cozy family craftman house in beautiful neighb...   \n",
       "\n",
       "                                               space  \\\n",
       "0  Make your self at home in this charming one-be...   \n",
       "1  Beautiful, hypoallergenic apartment in an extr...   \n",
       "2  Our house is modern, light and fresh with a wa...   \n",
       "3  *Note: This fall, there will be major renovati...   \n",
       "4  Cozy family craftman house in beautiful neighb...   \n",
       "\n",
       "                                         description experiences_offered  \\\n",
       "0  Make your self at home in this charming one-be...                none   \n",
       "1  Chemically sensitive? We've removed the irrita...                none   \n",
       "2  New modern house built in 2013.  Spectacular s...                none   \n",
       "3  A charming apartment that sits atop Queen Anne...                none   \n",
       "4  Cozy family craftman house in beautiful neighb...                none   \n",
       "\n",
       "                               neighborhood_overview  \\\n",
       "0  Wallingford is a mostly-residential neighborho...   \n",
       "1  Queen Anne is a wonderful, truly functional vi...   \n",
       "2  Upper Queen Anne is a charming neighborhood fu...   \n",
       "3  Wallingford is a mostly-residential neighborho...   \n",
       "4  We are in the beautiful neighborhood of Queen ...   \n",
       "\n",
       "                                               notes  \\\n",
       "0  All of our rentals are fully licensed and regu...   \n",
       "1  What's up with the free pillows?  Our home was...   \n",
       "2  Our house is located just 5 short blocks to To...   \n",
       "3  All of our rentals are fully licensed and regu...   \n",
       "4                                          Belltown    \n",
       "\n",
       "                                             transit  ... has_availability  \\\n",
       "0  Convenient public transportation. The location...  ...                t   \n",
       "1  Convenient bus stops are just down the block, ...  ...                t   \n",
       "2  A bus stop is just 2 blocks away.   Easy bus a...  ...                t   \n",
       "3  Convenient public transportation. The location...  ...                t   \n",
       "4  The nearest public transit bus (D Line) is 2 b...  ...                t   \n",
       "\n",
       "  calendar_last_scraped first_review last_review requires_license  \\\n",
       "0            2016-01-04   2011-11-01  2016-01-02                f   \n",
       "1            2016-01-04   2013-08-19  2015-12-29                f   \n",
       "2            2016-01-04   2014-07-30  2015-09-03                f   \n",
       "3            2016-01-04   2015-09-21  2016-01-02                f   \n",
       "4            2016-01-04   2012-07-10  2015-10-24                f   \n",
       "\n",
       "  jurisdiction_names instant_bookable cancellation_policy  \\\n",
       "0         WASHINGTON                f            moderate   \n",
       "1         WASHINGTON                f              strict   \n",
       "2         WASHINGTON                f              strict   \n",
       "3         WASHINGTON                f            flexible   \n",
       "4         WASHINGTON                f              strict   \n",
       "\n",
       "  require_guest_profile_picture require_guest_phone_verification  \n",
       "0                             f                                f  \n",
       "1                             t                                t  \n",
       "2                             f                                f  \n",
       "3                             f                                f  \n",
       "4                             f                                f  \n",
       "\n",
       "[5 rows x 54 columns]"
      ]
     },
     "execution_count": 157,
     "metadata": {},
     "output_type": "execute_result"
    }
   ],
   "source": [
    "# for object type columns: replace NAs with the mode of the column like we did for numeric columns with the mean\n",
    "obj_cols = df_listings.select_dtypes(['object']).columns\n",
    "\n",
    "# for numeric columns replace NAs with the mean of the column\n",
    "for i in obj_cols:\n",
    "    df_listings[i].fillna(df_listings[i].mode()[0], inplace = True)\n",
    "\n",
    "# have a look at the data whether it worked\n",
    "print(df_listings.select_dtypes(['object']).head().isna().sum())\n",
    "df_listings.select_dtypes(['object']).head()"
   ]
  },
  {
   "cell_type": "code",
   "execution_count": 160,
   "metadata": {},
   "outputs": [
    {
     "data": {
      "text/plain": [
       "0"
      ]
     },
     "execution_count": 160,
     "metadata": {},
     "output_type": "execute_result"
    }
   ],
   "source": [
    "# check whether we forgot something\n",
    "sum(df_listings.isnull().sum()>0)"
   ]
  },
  {
   "cell_type": "markdown",
   "metadata": {},
   "source": [
    "### part 3: df_reviews"
   ]
  },
  {
   "cell_type": "code",
   "execution_count": 165,
   "metadata": {},
   "outputs": [],
   "source": [
    "# date should be a datetime\n",
    "df_reviews['date'] = pd.to_datetime(df_reviews.date)"
   ]
  },
  {
   "cell_type": "code",
   "execution_count": 168,
   "metadata": {},
   "outputs": [
    {
     "name": "stdout",
     "output_type": "stream",
     "text": [
      "listing_id        0\n",
      "id                0\n",
      "date              0\n",
      "reviewer_id       0\n",
      "reviewer_name     0\n",
      "comments         18\n",
      "dtype: int64\n"
     ]
    }
   ],
   "source": [
    "# only missing values in the comments column. For this purpose it is ok to replace the missing comments just with the comment missing\n",
    "print(df_reviews.isnull().sum())\n",
    "df_reviews.comments.fillna('missing', inplace=True)"
   ]
  },
  {
   "cell_type": "code",
   "execution_count": 169,
   "metadata": {
    "scrolled": true
   },
   "outputs": [
    {
     "data": {
      "text/plain": [
       "listing_id       0\n",
       "id               0\n",
       "date             0\n",
       "reviewer_id      0\n",
       "reviewer_name    0\n",
       "comments         0\n",
       "dtype: int64"
      ]
     },
     "execution_count": 169,
     "metadata": {},
     "output_type": "execute_result"
    }
   ],
   "source": [
    "df_reviews.isnull().sum()"
   ]
  },
  {
   "cell_type": "markdown",
   "metadata": {},
   "source": [
    "Now we have clean datasets and are ready to start with our questions"
   ]
  },
  {
   "cell_type": "markdown",
   "metadata": {},
   "source": [
    "## Question 1: Which neighbourhood are most popular?"
   ]
  },
  {
   "cell_type": "markdown",
   "metadata": {},
   "source": [
    "We want to know the rate of availability for each neigbourhood. Therefore we calculate this rate first for each home and then the mean and median for each neighbourhood. We will restrict to neighbourhoods with at least 50 homes."
   ]
  },
  {
   "cell_type": "code",
   "execution_count": 192,
   "metadata": {},
   "outputs": [
    {
     "data": {
      "text/html": [
       "<div>\n",
       "<style scoped>\n",
       "    .dataframe tbody tr th:only-of-type {\n",
       "        vertical-align: middle;\n",
       "    }\n",
       "\n",
       "    .dataframe tbody tr th {\n",
       "        vertical-align: top;\n",
       "    }\n",
       "\n",
       "    .dataframe thead th {\n",
       "        text-align: right;\n",
       "    }\n",
       "</style>\n",
       "<table border=\"1\" class=\"dataframe\">\n",
       "  <thead>\n",
       "    <tr style=\"text-align: right;\">\n",
       "      <th></th>\n",
       "      <th>available</th>\n",
       "      <th>id</th>\n",
       "      <th>neighbourhood</th>\n",
       "    </tr>\n",
       "  </thead>\n",
       "  <tbody>\n",
       "    <tr>\n",
       "      <th>2184</th>\n",
       "      <td>0.846575</td>\n",
       "      <td>3335</td>\n",
       "      <td>Dunlap</td>\n",
       "    </tr>\n",
       "    <tr>\n",
       "      <th>3118</th>\n",
       "      <td>1.000000</td>\n",
       "      <td>4291</td>\n",
       "      <td>Roosevelt</td>\n",
       "    </tr>\n",
       "    <tr>\n",
       "      <th>2166</th>\n",
       "      <td>0.846575</td>\n",
       "      <td>5682</td>\n",
       "      <td>South Delridge</td>\n",
       "    </tr>\n",
       "    <tr>\n",
       "      <th>377</th>\n",
       "      <td>1.000000</td>\n",
       "      <td>6606</td>\n",
       "      <td>Wallingford</td>\n",
       "    </tr>\n",
       "    <tr>\n",
       "      <th>2757</th>\n",
       "      <td>0.145205</td>\n",
       "      <td>7369</td>\n",
       "      <td>Broadway</td>\n",
       "    </tr>\n",
       "  </tbody>\n",
       "</table>\n",
       "</div>"
      ],
      "text/plain": [
       "      available    id   neighbourhood\n",
       "2184   0.846575  3335          Dunlap\n",
       "3118   1.000000  4291       Roosevelt\n",
       "2166   0.846575  5682  South Delridge\n",
       "377    1.000000  6606     Wallingford\n",
       "2757   0.145205  7369        Broadway"
      ]
     },
     "execution_count": 192,
     "metadata": {},
     "output_type": "execute_result"
    }
   ],
   "source": [
    "# calculate availability of every home\n",
    "availability = pd.DataFrame(df_calendar[['listing_id', 'available']].groupby('listing_id').mean())\n",
    "\n",
    "# merge with neighbourhood data\n",
    "neighbourhood = availability.merge(df_listings[['id', 'neighbourhood']], left_index = True, right_on = 'id')\n",
    "neighbourhood.head()"
   ]
  },
  {
   "cell_type": "code",
   "execution_count": 199,
   "metadata": {},
   "outputs": [
    {
     "data": {
      "text/html": [
       "<div>\n",
       "<style scoped>\n",
       "    .dataframe tbody tr th:only-of-type {\n",
       "        vertical-align: middle;\n",
       "    }\n",
       "\n",
       "    .dataframe tbody tr th {\n",
       "        vertical-align: top;\n",
       "    }\n",
       "\n",
       "    .dataframe thead th {\n",
       "        text-align: right;\n",
       "    }\n",
       "</style>\n",
       "<table border=\"1\" class=\"dataframe\">\n",
       "  <thead>\n",
       "    <tr style=\"text-align: right;\">\n",
       "      <th></th>\n",
       "      <th>available</th>\n",
       "      <th>count</th>\n",
       "      <th>booked</th>\n",
       "    </tr>\n",
       "    <tr>\n",
       "      <th>neighbourhood</th>\n",
       "      <th></th>\n",
       "      <th></th>\n",
       "      <th></th>\n",
       "    </tr>\n",
       "  </thead>\n",
       "  <tbody>\n",
       "    <tr>\n",
       "      <th>Alki</th>\n",
       "      <td>0.685884</td>\n",
       "      <td>23</td>\n",
       "      <td>0.314116</td>\n",
       "    </tr>\n",
       "    <tr>\n",
       "      <th>Arbor Heights</th>\n",
       "      <td>0.712329</td>\n",
       "      <td>3</td>\n",
       "      <td>0.287671</td>\n",
       "    </tr>\n",
       "    <tr>\n",
       "      <th>Atlantic</th>\n",
       "      <td>0.599781</td>\n",
       "      <td>50</td>\n",
       "      <td>0.400219</td>\n",
       "    </tr>\n",
       "    <tr>\n",
       "      <th>Ballard</th>\n",
       "      <td>0.687144</td>\n",
       "      <td>213</td>\n",
       "      <td>0.312856</td>\n",
       "    </tr>\n",
       "    <tr>\n",
       "      <th>Belltown</th>\n",
       "      <td>0.616344</td>\n",
       "      <td>204</td>\n",
       "      <td>0.383656</td>\n",
       "    </tr>\n",
       "  </tbody>\n",
       "</table>\n",
       "</div>"
      ],
      "text/plain": [
       "               available  count    booked\n",
       "neighbourhood                            \n",
       "Alki            0.685884     23  0.314116\n",
       "Arbor Heights   0.712329      3  0.287671\n",
       "Atlantic        0.599781     50  0.400219\n",
       "Ballard         0.687144    213  0.312856\n",
       "Belltown        0.616344    204  0.383656"
      ]
     },
     "execution_count": 199,
     "metadata": {},
     "output_type": "execute_result"
    }
   ],
   "source": [
    "# final step: calculate the average availability rate for neighbourhoods, also add counts, \n",
    "# since later we only consider those with at least 50 homes\n",
    "neighbourhood_final = pd.DataFrame(neighbourhood.groupby('neighbourhood').available.mean())\n",
    "neighbourhood_final['count'] = neighbourhood.groupby('neighbourhood').id.count()\n",
    "neighbourhood_final['booked'] = 1-neighbourhood_final['available']\n",
    "neighbourhood_final.head()"
   ]
  },
  {
   "cell_type": "code",
   "execution_count": 294,
   "metadata": {},
   "outputs": [
    {
     "data": {
      "text/plain": [
       "(19, 1)"
      ]
     },
     "execution_count": 294,
     "metadata": {},
     "output_type": "execute_result"
    }
   ],
   "source": [
    "pd.DataFrame(neighbourhood_final[neighbourhood_final['count']>50].booked.sort_values(ascending=False)).shape"
   ]
  },
  {
   "cell_type": "code",
   "execution_count": 293,
   "metadata": {},
   "outputs": [
    {
     "data": {
      "image/png": "[encoded data removed]",
      "text/plain": [
       "<Figure size 432x288 with 1 Axes>"
      ]
     },
     "metadata": {
      "needs_background": "light"
     },
     "output_type": "display_data"
    }
   ],
   "source": [
    "# plot availability, easier to see if we sort the data descending\n",
    "plt.plot(neighbourhood_final[neighbourhood_final['count']>50].booked.sort_values(ascending=False), 'ob')\n",
    "plt.xticks(rotation=90)\n",
    "plt.title('Booking rate for neighbourhoods')\n",
    "plt.ylabel('rate booked')\n",
    "plt.xlabel('neighbourhood')\n",
    "plt.show()"
   ]
  },
  {
   "cell_type": "markdown",
   "metadata": {},
   "source": [
    "## Question 2: What factors are most important for the listing price?"
   ]
  },
  {
   "cell_type": "markdown",
   "metadata": {},
   "source": [
    "We run a linear regression model for predicting the listing price and have a look which factors have the biggest influence to the listing price."
   ]
  },
  {
   "cell_type": "code",
   "execution_count": 215,
   "metadata": {},
   "outputs": [
    {
     "data": {
      "text/plain": [
       "Index(['id', 'scrape_id', 'host_id', 'host_response_rate',\n",
       "       'host_acceptance_rate', 'host_is_superhost', 'host_listings_count',\n",
       "       'host_total_listings_count', 'latitude', 'longitude', 'accommodates',\n",
       "       'bathrooms', 'bedrooms', 'beds', 'price', 'cleaning_fee',\n",
       "       'guests_included', 'minimum_nights', 'maximum_nights',\n",
       "       'availability_30', 'availability_60', 'availability_90',\n",
       "       'availability_365', 'number_of_reviews', 'review_scores_rating',\n",
       "       'review_scores_accuracy', 'review_scores_cleanliness',\n",
       "       'review_scores_checkin', 'review_scores_communication',\n",
       "       'review_scores_location', 'review_scores_value',\n",
       "       'calculated_host_listings_count', 'reviews_per_month',\n",
       "       'Entire home/apt', 'Private room', 'Shared room'],\n",
       "      dtype='object')"
      ]
     },
     "execution_count": 215,
     "metadata": {},
     "output_type": "execute_result"
    }
   ],
   "source": [
    "# we have a look at numeric columns\n",
    "df_listings.select_dtypes(['int64', 'float64', 'uint8']).columns\n",
    "#df_listings.info()"
   ]
  },
  {
   "cell_type": "code",
   "execution_count": 299,
   "metadata": {},
   "outputs": [
    {
     "data": {
      "text/plain": [
       "<AxesSubplot:>"
      ]
     },
     "execution_count": 299,
     "metadata": {},
     "output_type": "execute_result"
    },
    {
     "data": {
      "image/png": "[encoded data removed]",
      "text/plain": [
       "<Figure size 432x288 with 1 Axes>"
      ]
     },
     "metadata": {
      "needs_background": "light"
     },
     "output_type": "display_data"
    }
   ],
   "source": [
    "# overview how the price is distributed\n",
    "df_listings.price.hist(bins=30)"
   ]
  },
  {
   "cell_type": "markdown",
   "metadata": {},
   "source": [
    "Since we can only use numeric columns for a linear regression model, we have a look at those. First of all we see that not every variable makes sense. We drop all columns including some sort of id. Also longitude and latitude are not useful in this setup."
   ]
  },
  {
   "cell_type": "code",
   "execution_count": 222,
   "metadata": {},
   "outputs": [],
   "source": [
    "# for feature matrix also drop price, since this is our traget\n",
    "df_price_features = df_listings.select_dtypes(['int64', 'float64', 'uint8']).drop(['id', 'scrape_id', 'host_id', 'latitude', 'longitude', 'price'], axis=1)\n",
    "target_price = df_listings.price"
   ]
  },
  {
   "cell_type": "code",
   "execution_count": 225,
   "metadata": {},
   "outputs": [
    {
     "name": "stdout",
     "output_type": "stream",
     "text": [
      "                            OLS Regression Results                            \n",
      "==============================================================================\n",
      "Dep. Variable:                  price   R-squared:                       0.568\n",
      "Model:                            OLS   Adj. R-squared:                  0.565\n",
      "Method:                 Least Squares   F-statistic:                     177.8\n",
      "Date:                Mon, 29 Aug 2022   Prob (F-statistic):               0.00\n",
      "Time:                        11:13:08   Log-Likelihood:                -21006.\n",
      "No. Observations:                3818   AIC:                         4.207e+04\n",
      "Df Residuals:                    3789   BIC:                         4.225e+04\n",
      "Df Model:                          28                                         \n",
      "Covariance Type:            nonrobust                                         \n",
      "==================================================================================================\n",
      "                                     coef    std err          t      P>|t|      [0.025      0.975]\n",
      "--------------------------------------------------------------------------------------------------\n",
      "const                            -50.9177     48.761     -1.044      0.296    -146.518      44.683\n",
      "host_response_rate                -5.2524      9.070     -0.579      0.563     -23.034      12.530\n",
      "host_acceptance_rate             -43.2101     59.943     -0.721      0.471    -160.734      74.314\n",
      "host_is_superhost                  6.7701      2.604      2.600      0.009       1.664      11.876\n",
      "host_listings_count            -7.867e-05      0.018     -0.004      0.997      -0.036       0.035\n",
      "host_total_listings_count      -7.867e-05      0.018     -0.004      0.997      -0.036       0.035\n",
      "accommodates                       7.1592      1.172      6.110      0.000       4.862       9.456\n",
      "bathrooms                         25.5955      2.148     11.918      0.000      21.385      29.806\n",
      "bedrooms                          23.1642      1.993     11.620      0.000      19.256      27.073\n",
      "beds                              -1.5041      1.762     -0.854      0.393      -4.958       1.950\n",
      "cleaning_fee                       0.4136      0.032     13.038      0.000       0.351       0.476\n",
      "guests_included                    3.3933      0.889      3.816      0.000       1.650       5.137\n",
      "minimum_nights                    -0.0180      0.059     -0.303      0.762      -0.134       0.098\n",
      "maximum_nights                 -7.791e-06      0.001     -0.013      0.989      -0.001       0.001\n",
      "availability_30                   -0.0522      0.253     -0.206      0.837      -0.549       0.445\n",
      "availability_60                    0.2043      0.280      0.730      0.466      -0.345       0.753\n",
      "availability_90                   -0.0716      0.146     -0.490      0.624      -0.358       0.215\n",
      "availability_365                   0.0125      0.010      1.249      0.212      -0.007       0.032\n",
      "number_of_reviews                 -0.0640      0.031     -2.047      0.041      -0.125      -0.003\n",
      "review_scores_rating               0.9023      0.276      3.271      0.001       0.362       1.443\n",
      "review_scores_accuracy             3.1188      2.068      1.508      0.132      -0.936       7.174\n",
      "review_scores_cleanliness         -0.2564      1.836     -0.140      0.889      -3.856       3.343\n",
      "review_scores_checkin             -1.7597      2.560     -0.687      0.492      -6.779       3.260\n",
      "review_scores_communication        1.4035      2.712      0.517      0.605      -3.915       6.721\n",
      "review_scores_location            11.4098      1.870      6.103      0.000       7.744      15.075\n",
      "review_scores_value              -11.5347      2.096     -5.503      0.000     -15.644      -7.425\n",
      "calculated_host_listings_count    -0.4209      0.187     -2.255      0.024      -0.787      -0.055\n",
      "reviews_per_month                 -2.5755      0.735     -3.504      0.000      -4.017      -1.134\n",
      "Entire home/apt                   16.2434     16.560      0.981      0.327     -16.223      48.710\n",
      "Private room                     -20.8603     16.505     -1.264      0.206     -53.219      11.498\n",
      "Shared room                      -46.3009     16.569     -2.794      0.005     -78.786     -13.816\n",
      "==============================================================================\n",
      "Omnibus:                     3378.225   Durbin-Watson:                   1.904\n",
      "Prob(Omnibus):                  0.000   Jarque-Bera (JB):           242892.166\n",
      "Skew:                           3.880   Prob(JB):                         0.00\n",
      "Kurtosis:                      41.296   Cond. No.                     1.17e+16\n",
      "==============================================================================\n",
      "\n",
      "Notes:\n",
      "[1] Standard Errors assume that the covariance matrix of the errors is correctly specified.\n",
      "[2] The smallest eigenvalue is 9.57e-23. This might indicate that there are\n",
      "strong multicollinearity problems or that the design matrix is singular.\n"
     ]
    }
   ],
   "source": [
    "# fit the linear regression model and add a constant to the feature matrix for the intercept\n",
    "reg = LinearRegression()\n",
    "X = sm.add_constant(df_price_features)\n",
    "est = sm.OLS(target_price, X)\n",
    "\n",
    "est2 = est.fit()\n",
    "print(est2.summary())"
   ]
  },
  {
   "cell_type": "markdown",
   "metadata": {},
   "source": [
    "The R-squared of the model is not very high and we also have some problems with collinearity. We print the correlation matrix and see how we could reduce the feature matrix further. We also drop some of the variables with a very high p-value (>.05)"
   ]
  },
  {
   "cell_type": "code",
   "execution_count": 230,
   "metadata": {},
   "outputs": [
    {
     "data": {
      "text/plain": [
       "<AxesSubplot:>"
      ]
     },
     "execution_count": 230,
     "metadata": {},
     "output_type": "execute_result"
    },
    {
     "data": {
      "image/png": "[encoded data removed]",
      "text/plain": [
       "<Figure size 432x288 with 2 Axes>"
      ]
     },
     "metadata": {
      "needs_background": "light"
     },
     "output_type": "display_data"
    }
   ],
   "source": [
    "# have a look at the correlation matrix\n",
    "sns.heatmap(df_price_features.corr())\n",
    "#print(df_price_features.corr())"
   ]
  },
  {
   "cell_type": "markdown",
   "metadata": {},
   "source": [
    "Availability and review variables show high correlation. Therefore we might just pick one of them. Also private and shared room are just the opposite of each other, so we might drop one of them. "
   ]
  },
  {
   "cell_type": "code",
   "execution_count": 274,
   "metadata": {},
   "outputs": [
    {
     "data": {
      "text/html": [
       "<div>\n",
       "<style scoped>\n",
       "    .dataframe tbody tr th:only-of-type {\n",
       "        vertical-align: middle;\n",
       "    }\n",
       "\n",
       "    .dataframe tbody tr th {\n",
       "        vertical-align: top;\n",
       "    }\n",
       "\n",
       "    .dataframe thead th {\n",
       "        text-align: right;\n",
       "    }\n",
       "</style>\n",
       "<table border=\"1\" class=\"dataframe\">\n",
       "  <thead>\n",
       "    <tr style=\"text-align: right;\">\n",
       "      <th></th>\n",
       "      <th>host_is_superhost</th>\n",
       "      <th>accommodates</th>\n",
       "      <th>bathrooms</th>\n",
       "      <th>bedrooms</th>\n",
       "      <th>cleaning_fee</th>\n",
       "      <th>guests_included</th>\n",
       "      <th>number_of_reviews</th>\n",
       "      <th>review_scores_value</th>\n",
       "      <th>reviews_per_month</th>\n",
       "      <th>Shared room</th>\n",
       "    </tr>\n",
       "  </thead>\n",
       "  <tbody>\n",
       "    <tr>\n",
       "      <th>0</th>\n",
       "      <td>0.0</td>\n",
       "      <td>4</td>\n",
       "      <td>1.0</td>\n",
       "      <td>1.0</td>\n",
       "      <td>61.710904</td>\n",
       "      <td>2</td>\n",
       "      <td>207</td>\n",
       "      <td>10.000000</td>\n",
       "      <td>4.070000</td>\n",
       "      <td>0</td>\n",
       "    </tr>\n",
       "    <tr>\n",
       "      <th>1</th>\n",
       "      <td>1.0</td>\n",
       "      <td>4</td>\n",
       "      <td>1.0</td>\n",
       "      <td>1.0</td>\n",
       "      <td>40.000000</td>\n",
       "      <td>1</td>\n",
       "      <td>43</td>\n",
       "      <td>10.000000</td>\n",
       "      <td>1.480000</td>\n",
       "      <td>0</td>\n",
       "    </tr>\n",
       "    <tr>\n",
       "      <th>2</th>\n",
       "      <td>0.0</td>\n",
       "      <td>11</td>\n",
       "      <td>4.5</td>\n",
       "      <td>5.0</td>\n",
       "      <td>300.000000</td>\n",
       "      <td>10</td>\n",
       "      <td>20</td>\n",
       "      <td>10.000000</td>\n",
       "      <td>1.150000</td>\n",
       "      <td>0</td>\n",
       "    </tr>\n",
       "    <tr>\n",
       "      <th>3</th>\n",
       "      <td>0.0</td>\n",
       "      <td>3</td>\n",
       "      <td>1.0</td>\n",
       "      <td>0.0</td>\n",
       "      <td>61.710904</td>\n",
       "      <td>1</td>\n",
       "      <td>0</td>\n",
       "      <td>9.452245</td>\n",
       "      <td>2.078919</td>\n",
       "      <td>0</td>\n",
       "    </tr>\n",
       "    <tr>\n",
       "      <th>4</th>\n",
       "      <td>0.0</td>\n",
       "      <td>6</td>\n",
       "      <td>2.0</td>\n",
       "      <td>3.0</td>\n",
       "      <td>125.000000</td>\n",
       "      <td>6</td>\n",
       "      <td>38</td>\n",
       "      <td>9.000000</td>\n",
       "      <td>0.890000</td>\n",
       "      <td>0</td>\n",
       "    </tr>\n",
       "  </tbody>\n",
       "</table>\n",
       "</div>"
      ],
      "text/plain": [
       "   host_is_superhost  accommodates  bathrooms  bedrooms  cleaning_fee  \\\n",
       "0                0.0             4        1.0       1.0     61.710904   \n",
       "1                1.0             4        1.0       1.0     40.000000   \n",
       "2                0.0            11        4.5       5.0    300.000000   \n",
       "3                0.0             3        1.0       0.0     61.710904   \n",
       "4                0.0             6        2.0       3.0    125.000000   \n",
       "\n",
       "   guests_included  number_of_reviews  review_scores_value  reviews_per_month  \\\n",
       "0                2                207            10.000000           4.070000   \n",
       "1                1                 43            10.000000           1.480000   \n",
       "2               10                 20            10.000000           1.150000   \n",
       "3                1                  0             9.452245           2.078919   \n",
       "4                6                 38             9.000000           0.890000   \n",
       "\n",
       "   Shared room  \n",
       "0            0  \n",
       "1            0  \n",
       "2            0  \n",
       "3            0  \n",
       "4            0  "
      ]
     },
     "execution_count": 274,
     "metadata": {},
     "output_type": "execute_result"
    }
   ],
   "source": [
    "# new feature matrix\n",
    "df_price_features_mod = df_price_features[['host_is_superhost', 'accommodates', 'bathrooms', 'bedrooms', 'cleaning_fee', 'guests_included', 'number_of_reviews', 'review_scores_value', 'reviews_per_month', 'Shared room']]\n",
    "df_price_features_mod.head()"
   ]
  },
  {
   "cell_type": "code",
   "execution_count": 255,
   "metadata": {},
   "outputs": [
    {
     "name": "stdout",
     "output_type": "stream",
     "text": [
      "                            OLS Regression Results                            \n",
      "==============================================================================\n",
      "Dep. Variable:                  price   R-squared:                       0.531\n",
      "Model:                            OLS   Adj. R-squared:                  0.529\n",
      "Method:                 Least Squares   F-statistic:                     430.3\n",
      "Date:                Mon, 29 Aug 2022   Prob (F-statistic):               0.00\n",
      "Time:                        13:39:00   Log-Likelihood:                -21164.\n",
      "No. Observations:                3818   AIC:                         4.235e+04\n",
      "Df Residuals:                    3807   BIC:                         4.242e+04\n",
      "Df Model:                          10                                         \n",
      "Covariance Type:            nonrobust                                         \n",
      "=======================================================================================\n",
      "                          coef    std err          t      P>|t|      [0.025      0.975]\n",
      "---------------------------------------------------------------------------------------\n",
      "const                  22.2871     14.518      1.535      0.125      -6.178      50.752\n",
      "host_is_superhost       9.4714      2.666      3.553      0.000       4.245      14.698\n",
      "accommodates           11.9075      0.893     13.332      0.000      10.156      13.659\n",
      "bathrooms              21.0015      2.203      9.535      0.000      16.683      25.320\n",
      "bedrooms               17.4417      1.969      8.860      0.000      13.582      21.301\n",
      "cleaning_fee            0.4951      0.031     15.747      0.000       0.433       0.557\n",
      "guests_included         3.6439      0.912      3.996      0.000       1.856       5.432\n",
      "number_of_reviews      -0.0808      0.032     -2.518      0.012      -0.144      -0.018\n",
      "review_scores_value    -1.4351      1.520     -0.944      0.345      -4.415       1.545\n",
      "reviews_per_month      -2.5362      0.747     -3.394      0.001      -4.001      -1.071\n",
      "Shared room           -45.6568      5.928     -7.701      0.000     -57.280     -34.034\n",
      "==============================================================================\n",
      "Omnibus:                     3149.269   Durbin-Watson:                   1.800\n",
      "Prob(Omnibus):                  0.000   Jarque-Bera (JB):           183309.988\n",
      "Skew:                           3.528   Prob(JB):                         0.00\n",
      "Kurtosis:                      36.204   Cond. No.                     1.13e+03\n",
      "==============================================================================\n",
      "\n",
      "Notes:\n",
      "[1] Standard Errors assume that the covariance matrix of the errors is correctly specified.\n",
      "[2] The condition number is large, 1.13e+03. This might indicate that there are\n",
      "strong multicollinearity or other numerical problems.\n"
     ]
    }
   ],
   "source": [
    "# fit the linear regression model again\n",
    "reg = LinearRegression()\n",
    "Xmod = sm.add_constant(df_price_features_mod)\n",
    "estmod = sm.OLS(target_price, Xmod)\n",
    "\n",
    "estmod2 = estmod.fit()\n",
    "print(estmod2.summary())"
   ]
  },
  {
   "cell_type": "code",
   "execution_count": 240,
   "metadata": {},
   "outputs": [],
   "source": [
    "# drop review_scores_value, since it has a very high p-value\n",
    "df_price_features_mod_2 = df_price_features_mod.drop(['review_scores_value'], axis=1)"
   ]
  },
  {
   "cell_type": "code",
   "execution_count": 256,
   "metadata": {},
   "outputs": [
    {
     "name": "stdout",
     "output_type": "stream",
     "text": [
      "                            OLS Regression Results                            \n",
      "==============================================================================\n",
      "Dep. Variable:                  price   R-squared:                       0.530\n",
      "Model:                            OLS   Adj. R-squared:                  0.529\n",
      "Method:                 Least Squares   F-statistic:                     478.1\n",
      "Date:                Mon, 29 Aug 2022   Prob (F-statistic):               0.00\n",
      "Time:                        13:41:00   Log-Likelihood:                -21165.\n",
      "No. Observations:                3818   AIC:                         4.235e+04\n",
      "Df Residuals:                    3808   BIC:                         4.241e+04\n",
      "Df Model:                           9                                         \n",
      "Covariance Type:            nonrobust                                         \n",
      "=====================================================================================\n",
      "                        coef    std err          t      P>|t|      [0.025      0.975]\n",
      "-------------------------------------------------------------------------------------\n",
      "const                 8.8853      3.058      2.906      0.004       2.890      14.881\n",
      "host_is_superhost     8.9761      2.614      3.434      0.001       3.852      14.100\n",
      "accommodates         11.9759      0.890     13.453      0.000      10.231      13.721\n",
      "bathrooms            20.9238      2.201      9.507      0.000      16.609      25.239\n",
      "bedrooms             17.2892      1.962      8.812      0.000      13.443      21.136\n",
      "cleaning_fee          0.4965      0.031     15.808      0.000       0.435       0.558\n",
      "guests_included       3.6543      0.912      4.007      0.000       1.866       5.442\n",
      "number_of_reviews    -0.0789      0.032     -2.464      0.014      -0.142      -0.016\n",
      "reviews_per_month    -2.6035      0.744     -3.500      0.000      -4.062      -1.145\n",
      "Shared room         -45.5658      5.928     -7.687      0.000     -57.187     -33.944\n",
      "==============================================================================\n",
      "Omnibus:                     3146.040   Durbin-Watson:                   1.800\n",
      "Prob(Omnibus):                  0.000   Jarque-Bera (JB):           182449.869\n",
      "Skew:                           3.523   Prob(JB):                         0.00\n",
      "Kurtosis:                      36.124   Cond. No.                         456.\n",
      "==============================================================================\n",
      "\n",
      "Notes:\n",
      "[1] Standard Errors assume that the covariance matrix of the errors is correctly specified.\n"
     ]
    }
   ],
   "source": [
    "# fit the linear regression model again\n",
    "reg = LinearRegression()\n",
    "Xmod = sm.add_constant(df_price_features_mod_2)\n",
    "estmod = sm.OLS(target_price, Xmod)\n",
    "\n",
    "estmod2 = estmod.fit()\n",
    "print(estmod2.summary())"
   ]
  },
  {
   "cell_type": "code",
   "execution_count": 297,
   "metadata": {},
   "outputs": [
    {
     "data": {
      "text/html": [
       "<div>\n",
       "<style scoped>\n",
       "    .dataframe tbody tr th:only-of-type {\n",
       "        vertical-align: middle;\n",
       "    }\n",
       "\n",
       "    .dataframe tbody tr th {\n",
       "        vertical-align: top;\n",
       "    }\n",
       "\n",
       "    .dataframe thead th {\n",
       "        text-align: right;\n",
       "    }\n",
       "</style>\n",
       "<table border=\"1\" class=\"dataframe\">\n",
       "  <thead>\n",
       "    <tr style=\"text-align: right;\">\n",
       "      <th></th>\n",
       "      <th>0</th>\n",
       "    </tr>\n",
       "  </thead>\n",
       "  <tbody>\n",
       "    <tr>\n",
       "      <th>const</th>\n",
       "      <td>8.885301</td>\n",
       "    </tr>\n",
       "    <tr>\n",
       "      <th>host_is_superhost</th>\n",
       "      <td>8.976056</td>\n",
       "    </tr>\n",
       "    <tr>\n",
       "      <th>accommodates</th>\n",
       "      <td>11.975860</td>\n",
       "    </tr>\n",
       "    <tr>\n",
       "      <th>bathrooms</th>\n",
       "      <td>20.923778</td>\n",
       "    </tr>\n",
       "    <tr>\n",
       "      <th>bedrooms</th>\n",
       "      <td>17.289195</td>\n",
       "    </tr>\n",
       "    <tr>\n",
       "      <th>cleaning_fee</th>\n",
       "      <td>0.496479</td>\n",
       "    </tr>\n",
       "    <tr>\n",
       "      <th>guests_included</th>\n",
       "      <td>3.654327</td>\n",
       "    </tr>\n",
       "    <tr>\n",
       "      <th>number_of_reviews</th>\n",
       "      <td>-0.078917</td>\n",
       "    </tr>\n",
       "    <tr>\n",
       "      <th>reviews_per_month</th>\n",
       "      <td>-2.603525</td>\n",
       "    </tr>\n",
       "    <tr>\n",
       "      <th>Shared room</th>\n",
       "      <td>-45.565840</td>\n",
       "    </tr>\n",
       "  </tbody>\n",
       "</table>\n",
       "</div>"
      ],
      "text/plain": [
       "                           0\n",
       "const               8.885301\n",
       "host_is_superhost   8.976056\n",
       "accommodates       11.975860\n",
       "bathrooms          20.923778\n",
       "bedrooms           17.289195\n",
       "cleaning_fee        0.496479\n",
       "guests_included     3.654327\n",
       "number_of_reviews  -0.078917\n",
       "reviews_per_month  -2.603525\n",
       "Shared room       -45.565840"
      ]
     },
     "execution_count": 297,
     "metadata": {},
     "output_type": "execute_result"
    }
   ],
   "source": [
    "pd.DataFrame(estmod2.params)"
   ]
  },
  {
   "cell_type": "markdown",
   "metadata": {},
   "source": [
    "Now, our model looks better. R-squared didn't decrease a lot and all variables have small p-value. \n",
    "The coefficiant with the highest value is Shared room. Since it has a negative value we can say that if the room is shared it has the most negative influence. This makes sense because in other words we can say, if the room is shared, the home is chaper.\n",
    "Also the most positive variables make sense. If the number of bedrooms an bathrooms is higher then the home gets more expensive. For sure more bathrooms and bedrooms indicate more space and will therefore be more expensive."
   ]
  },
  {
   "cell_type": "code",
   "execution_count": 246,
   "metadata": {},
   "outputs": [
    {
     "data": {
      "text/html": [
       "<div>\n",
       "<style scoped>\n",
       "    .dataframe tbody tr th:only-of-type {\n",
       "        vertical-align: middle;\n",
       "    }\n",
       "\n",
       "    .dataframe tbody tr th {\n",
       "        vertical-align: top;\n",
       "    }\n",
       "\n",
       "    .dataframe thead th {\n",
       "        text-align: right;\n",
       "    }\n",
       "</style>\n",
       "<table border=\"1\" class=\"dataframe\">\n",
       "  <thead>\n",
       "    <tr style=\"text-align: right;\">\n",
       "      <th></th>\n",
       "      <th>host_is_superhost</th>\n",
       "      <th>accommodates</th>\n",
       "      <th>bathrooms</th>\n",
       "      <th>bedrooms</th>\n",
       "      <th>cleaning_fee</th>\n",
       "      <th>guests_included</th>\n",
       "      <th>number_of_reviews</th>\n",
       "      <th>reviews_per_month</th>\n",
       "      <th>Shared room</th>\n",
       "    </tr>\n",
       "  </thead>\n",
       "  <tbody>\n",
       "    <tr>\n",
       "      <th>count</th>\n",
       "      <td>3818.000000</td>\n",
       "      <td>3818.000000</td>\n",
       "      <td>3818.000000</td>\n",
       "      <td>3818.000000</td>\n",
       "      <td>3818.000000</td>\n",
       "      <td>3818.000000</td>\n",
       "      <td>3818.000000</td>\n",
       "      <td>3818.000000</td>\n",
       "      <td>3818.000000</td>\n",
       "    </tr>\n",
       "    <tr>\n",
       "      <th>mean</th>\n",
       "      <td>0.203772</td>\n",
       "      <td>3.349398</td>\n",
       "      <td>1.259469</td>\n",
       "      <td>1.307712</td>\n",
       "      <td>61.710904</td>\n",
       "      <td>1.672603</td>\n",
       "      <td>22.223415</td>\n",
       "      <td>2.078919</td>\n",
       "      <td>0.030644</td>\n",
       "    </tr>\n",
       "    <tr>\n",
       "      <th>std</th>\n",
       "      <td>0.402854</td>\n",
       "      <td>1.977599</td>\n",
       "      <td>0.589130</td>\n",
       "      <td>0.882700</td>\n",
       "      <td>41.725079</td>\n",
       "      <td>1.311040</td>\n",
       "      <td>37.730892</td>\n",
       "      <td>1.665964</td>\n",
       "      <td>0.172375</td>\n",
       "    </tr>\n",
       "    <tr>\n",
       "      <th>min</th>\n",
       "      <td>0.000000</td>\n",
       "      <td>1.000000</td>\n",
       "      <td>0.000000</td>\n",
       "      <td>0.000000</td>\n",
       "      <td>5.000000</td>\n",
       "      <td>0.000000</td>\n",
       "      <td>0.000000</td>\n",
       "      <td>0.020000</td>\n",
       "      <td>0.000000</td>\n",
       "    </tr>\n",
       "    <tr>\n",
       "      <th>25%</th>\n",
       "      <td>0.000000</td>\n",
       "      <td>2.000000</td>\n",
       "      <td>1.000000</td>\n",
       "      <td>1.000000</td>\n",
       "      <td>35.000000</td>\n",
       "      <td>1.000000</td>\n",
       "      <td>2.000000</td>\n",
       "      <td>0.830000</td>\n",
       "      <td>0.000000</td>\n",
       "    </tr>\n",
       "    <tr>\n",
       "      <th>50%</th>\n",
       "      <td>0.000000</td>\n",
       "      <td>3.000000</td>\n",
       "      <td>1.000000</td>\n",
       "      <td>1.000000</td>\n",
       "      <td>61.710904</td>\n",
       "      <td>1.000000</td>\n",
       "      <td>9.000000</td>\n",
       "      <td>2.000000</td>\n",
       "      <td>0.000000</td>\n",
       "    </tr>\n",
       "    <tr>\n",
       "      <th>75%</th>\n",
       "      <td>0.000000</td>\n",
       "      <td>4.000000</td>\n",
       "      <td>1.000000</td>\n",
       "      <td>2.000000</td>\n",
       "      <td>65.000000</td>\n",
       "      <td>2.000000</td>\n",
       "      <td>26.000000</td>\n",
       "      <td>2.660000</td>\n",
       "      <td>0.000000</td>\n",
       "    </tr>\n",
       "    <tr>\n",
       "      <th>max</th>\n",
       "      <td>1.000000</td>\n",
       "      <td>16.000000</td>\n",
       "      <td>8.000000</td>\n",
       "      <td>7.000000</td>\n",
       "      <td>300.000000</td>\n",
       "      <td>15.000000</td>\n",
       "      <td>474.000000</td>\n",
       "      <td>12.150000</td>\n",
       "      <td>1.000000</td>\n",
       "    </tr>\n",
       "  </tbody>\n",
       "</table>\n",
       "</div>"
      ],
      "text/plain": [
       "       host_is_superhost  accommodates    bathrooms     bedrooms  \\\n",
       "count        3818.000000   3818.000000  3818.000000  3818.000000   \n",
       "mean            0.203772      3.349398     1.259469     1.307712   \n",
       "std             0.402854      1.977599     0.589130     0.882700   \n",
       "min             0.000000      1.000000     0.000000     0.000000   \n",
       "25%             0.000000      2.000000     1.000000     1.000000   \n",
       "50%             0.000000      3.000000     1.000000     1.000000   \n",
       "75%             0.000000      4.000000     1.000000     2.000000   \n",
       "max             1.000000     16.000000     8.000000     7.000000   \n",
       "\n",
       "       cleaning_fee  guests_included  number_of_reviews  reviews_per_month  \\\n",
       "count   3818.000000      3818.000000        3818.000000        3818.000000   \n",
       "mean      61.710904         1.672603          22.223415           2.078919   \n",
       "std       41.725079         1.311040          37.730892           1.665964   \n",
       "min        5.000000         0.000000           0.000000           0.020000   \n",
       "25%       35.000000         1.000000           2.000000           0.830000   \n",
       "50%       61.710904         1.000000           9.000000           2.000000   \n",
       "75%       65.000000         2.000000          26.000000           2.660000   \n",
       "max      300.000000        15.000000         474.000000          12.150000   \n",
       "\n",
       "       Shared room  \n",
       "count  3818.000000  \n",
       "mean      0.030644  \n",
       "std       0.172375  \n",
       "min       0.000000  \n",
       "25%       0.000000  \n",
       "50%       0.000000  \n",
       "75%       0.000000  \n",
       "max       1.000000  "
      ]
     },
     "execution_count": 246,
     "metadata": {},
     "output_type": "execute_result"
    }
   ],
   "source": [
    "df_price_features_mod_2.describe()"
   ]
  },
  {
   "cell_type": "markdown",
   "metadata": {},
   "source": [
    "## Question 3: Can we predict the rating?"
   ]
  },
  {
   "cell_type": "markdown",
   "metadata": {},
   "source": [
    "Again we try to run a linear regression model to predict the rating of an airbnb home. This time we split the data into training and test data and evaluate our model.\n",
    "Since we can only use numeric columns for a linear regression model, we have a look at those. First of all we see that not every variable makes sense. We drop all columns including some sort of id. Also the review_scores_value is a combination of the other reviews, so they are highly correlated. If we run a model with those variables, they will be for sure the most important, so we may also drop them."
   ]
  },
  {
   "cell_type": "code",
   "execution_count": 300,
   "metadata": {},
   "outputs": [
    {
     "data": {
      "text/plain": [
       "<AxesSubplot:>"
      ]
     },
     "execution_count": 300,
     "metadata": {},
     "output_type": "execute_result"
    },
    {
     "data": {
      "image/png": "[encoded data removed]",
      "text/plain": [
       "<Figure size 432x288 with 1 Axes>"
      ]
     },
     "metadata": {
      "needs_background": "light"
     },
     "output_type": "display_data"
    }
   ],
   "source": [
    "# distribution of the ratings\n",
    "df_price_features.review_scores_value.hist()"
   ]
  },
  {
   "cell_type": "code",
   "execution_count": 251,
   "metadata": {},
   "outputs": [],
   "source": [
    "# again we drop columns like ids and also the target variable\n",
    "X = df_listings.select_dtypes(['int64', 'float64', 'uint8']).drop(['id', 'scrape_id', 'host_id', 'latitude', 'longitude', 'review_scores_value'], axis=1)\n",
    "y = df_price_features.review_scores_value"
   ]
  },
  {
   "cell_type": "code",
   "execution_count": 253,
   "metadata": {},
   "outputs": [],
   "source": [
    "# drop the other review columns\n",
    "X = X.drop(['review_scores_rating', 'review_scores_accuracy', 'review_scores_cleanliness', 'review_scores_checkin', 'review_scores_communication', 'review_scores_location'], axis=1)"
   ]
  },
  {
   "cell_type": "code",
   "execution_count": 301,
   "metadata": {},
   "outputs": [
    {
     "name": "stdout",
     "output_type": "stream",
     "text": [
      "                             OLS Regression Results                            \n",
      "===============================================================================\n",
      "Dep. Variable:     review_scores_value   R-squared:                       0.106\n",
      "Model:                             OLS   Adj. R-squared:                  0.101\n",
      "Method:                  Least Squares   F-statistic:                     20.48\n",
      "Date:                 Tue, 30 Aug 2022   Prob (F-statistic):           1.12e-76\n",
      "Time:                         11:12:04   Log-Likelihood:                -3745.8\n",
      "No. Observations:                 3818   AIC:                             7538.\n",
      "Df Residuals:                     3795   BIC:                             7681.\n",
      "Df Model:                           22                                         \n",
      "Covariance Type:             nonrobust                                         \n",
      "==================================================================================================\n",
      "                                     coef    std err          t      P>|t|      [0.025      0.975]\n",
      "--------------------------------------------------------------------------------------------------\n",
      "const                              6.3675      0.493     12.911      0.000       5.401       7.334\n",
      "host_response_rate                 0.4829      0.098      4.937      0.000       0.291       0.675\n",
      "host_acceptance_rate               0.5740      0.651      0.882      0.378      -0.703       1.850\n",
      "host_is_superhost                  0.3173      0.028     11.482      0.000       0.263       0.371\n",
      "host_listings_count               -0.0004      0.000     -2.167      0.030      -0.001   -4.01e-05\n",
      "host_total_listings_count         -0.0004      0.000     -2.167      0.030      -0.001   -4.01e-05\n",
      "accommodates                      -0.0511      0.013     -4.007      0.000      -0.076      -0.026\n",
      "bathrooms                          0.0418      0.024      1.759      0.079      -0.005       0.088\n",
      "bedrooms                           0.0645      0.022      2.939      0.003       0.021       0.108\n",
      "beds                               0.0437      0.019      2.288      0.022       0.006       0.081\n",
      "price                             -0.0002      0.000     -1.037      0.300      -0.001       0.000\n",
      "cleaning_fee                    -2.06e-05      0.000     -0.059      0.953      -0.001       0.001\n",
      "guests_included                   -0.0172      0.010     -1.777      0.076      -0.036       0.002\n",
      "minimum_nights                    -0.0001      0.001     -0.214      0.831      -0.001       0.001\n",
      "maximum_nights                 -4.142e-06   6.28e-06     -0.660      0.509   -1.64e-05    8.16e-06\n",
      "availability_30                   -0.0024      0.003     -0.878      0.380      -0.008       0.003\n",
      "availability_60                   -0.0006      0.003     -0.185      0.854      -0.007       0.005\n",
      "availability_90                   -0.0001      0.002     -0.080      0.936      -0.003       0.003\n",
      "availability_365                6.022e-05      0.000      0.553      0.580      -0.000       0.000\n",
      "number_of_reviews                 -0.0013      0.000     -3.714      0.000      -0.002      -0.001\n",
      "calculated_host_listings_count    -0.0186      0.002     -9.327      0.000      -0.022      -0.015\n",
      "reviews_per_month                  0.0391      0.008      4.924      0.000       0.024       0.055\n",
      "Entire home/apt                    2.0479      0.168     12.186      0.000       1.718       2.377\n",
      "Private room                       2.0834      0.168     12.415      0.000       1.754       2.412\n",
      "Shared room                        2.2362      0.168     13.349      0.000       1.908       2.565\n",
      "==============================================================================\n",
      "Omnibus:                     1922.464   Durbin-Watson:                   1.977\n",
      "Prob(Omnibus):                  0.000   Jarque-Bera (JB):            23272.152\n",
      "Skew:                          -2.105   Prob(JB):                         0.00\n",
      "Kurtosis:                      14.339   Cond. No.                     5.76e+18\n",
      "==============================================================================\n",
      "\n",
      "Notes:\n",
      "[1] Standard Errors assume that the covariance matrix of the errors is correctly specified.\n",
      "[2] The smallest eigenvalue is 3.98e-28. This might indicate that there are\n",
      "strong multicollinearity problems or that the design matrix is singular.\n"
     ]
    }
   ],
   "source": [
    "# fit the linear regression \n",
    "reg = LinearRegression()\n",
    "Xmod = sm.add_constant(X)\n",
    "estmod = sm.OLS(y, Xmod)\n",
    "\n",
    "estmod2 = estmod.fit()\n",
    "print(estmod2.summary())"
   ]
  },
  {
   "cell_type": "markdown",
   "metadata": {},
   "source": [
    "This does not look good. Before testing this model, we should further modify. Select only the features with small p-value."
   ]
  },
  {
   "cell_type": "code",
   "execution_count": 303,
   "metadata": {},
   "outputs": [],
   "source": [
    "X_modified = X[['host_response_rate', 'host_is_superhost', 'host_listings_count', 'accommodates', 'bedrooms', 'number_of_reviews',\n",
    "              'calculated_host_listings_count', 'reviews_per_month', 'Entire home/apt', 'Private room', 'Shared room']]"
   ]
  },
  {
   "cell_type": "code",
   "execution_count": 304,
   "metadata": {},
   "outputs": [
    {
     "name": "stdout",
     "output_type": "stream",
     "text": [
      "                             OLS Regression Results                            \n",
      "===============================================================================\n",
      "Dep. Variable:     review_scores_value   R-squared:                       0.099\n",
      "Model:                             OLS   Adj. R-squared:                  0.097\n",
      "Method:                  Least Squares   F-statistic:                     41.85\n",
      "Date:                 Tue, 30 Aug 2022   Prob (F-statistic):           3.25e-79\n",
      "Time:                         11:18:27   Log-Likelihood:                -3760.9\n",
      "No. Observations:                 3818   AIC:                             7544.\n",
      "Df Residuals:                     3807   BIC:                             7612.\n",
      "Df Model:                           10                                         \n",
      "Covariance Type:             nonrobust                                         \n",
      "==================================================================================================\n",
      "                                     coef    std err          t      P>|t|      [0.025      0.975]\n",
      "--------------------------------------------------------------------------------------------------\n",
      "const                              6.7583      0.072     93.464      0.000       6.616       6.900\n",
      "host_response_rate                 0.4998      0.097      5.133      0.000       0.309       0.691\n",
      "host_is_superhost                  0.3118      0.028     11.317      0.000       0.258       0.366\n",
      "host_listings_count               -0.0010      0.000     -2.527      0.012      -0.002      -0.000\n",
      "accommodates                      -0.0408      0.009     -4.310      0.000      -0.059      -0.022\n",
      "bedrooms                           0.0860      0.019      4.415      0.000       0.048       0.124\n",
      "number_of_reviews                 -0.0014      0.000     -4.049      0.000      -0.002      -0.001\n",
      "calculated_host_listings_count    -0.0187      0.002     -9.540      0.000      -0.023      -0.015\n",
      "reviews_per_month                  0.0387      0.008      4.970      0.000       0.023       0.054\n",
      "Entire home/apt                    2.1753      0.032     67.283      0.000       2.112       2.239\n",
      "Private room                       2.2102      0.032     70.097      0.000       2.148       2.272\n",
      "Shared room                        2.3728      0.054     43.764      0.000       2.267       2.479\n",
      "==============================================================================\n",
      "Omnibus:                     1925.270   Durbin-Watson:                   1.976\n",
      "Prob(Omnibus):                  0.000   Jarque-Bera (JB):            23446.371\n",
      "Skew:                          -2.107   Prob(JB):                         0.00\n",
      "Kurtosis:                      14.385   Cond. No.                     4.07e+17\n",
      "==============================================================================\n",
      "\n",
      "Notes:\n",
      "[1] Standard Errors assume that the covariance matrix of the errors is correctly specified.\n",
      "[2] The smallest eigenvalue is 4.45e-29. This might indicate that there are\n",
      "strong multicollinearity problems or that the design matrix is singular.\n"
     ]
    }
   ],
   "source": [
    "# fit the linear regression \n",
    "reg = LinearRegression()\n",
    "Xmod = sm.add_constant(X_modified)\n",
    "estmod = sm.OLS(y, Xmod)\n",
    "\n",
    "estmod2 = estmod.fit()\n",
    "print(estmod2.summary())"
   ]
  },
  {
   "cell_type": "markdown",
   "metadata": {},
   "source": [
    "We got a bit worse in terms of r-squared. Nevertheless we try to split our data into training and test data to test the accuracy of our model."
   ]
  },
  {
   "cell_type": "code",
   "execution_count": 307,
   "metadata": {},
   "outputs": [
    {
     "name": "stdout",
     "output_type": "stream",
     "text": [
      "The r-squared obtained on the test set is 0.055691274728483786\n",
      "0.4351005517514503\n"
     ]
    }
   ],
   "source": [
    "# import necassary libraries\n",
    "from sklearn.model_selection import train_test_split\n",
    "from sklearn.metrics import r2_score, mean_squared_error\n",
    "\n",
    "# split data into train and test data and add constant\n",
    "X_const = sm.add_constant(X_modified)\n",
    "X_train, X_test, y_train, y_test = train_test_split(X_const, y, test_size = .30, random_state=42)\n",
    "\n",
    "lm_model = LinearRegression(normalize=True) # Here we normalize our data\n",
    "lm_model.fit(X_train, y_train)\n",
    "\n",
    "# we use the fitted model to predict the ratings on our test dataset\n",
    "y_test_preds = lm_model.predict(X_test)\n",
    "\n",
    "# we print the 2 most common metrics for linear models, the r-squared and the mean squared error to measure the quality of our model\n",
    "print('The r-squared obtained on the test set is {}'.format(r2_score(y_test, y_test_preds))) \n",
    "print(mean_squared_error(y_test, y_test_preds)) \n"
   ]
  },
  {
   "cell_type": "markdown",
   "metadata": {},
   "source": [
    "R-squared from 5.5% is not very high, although the mean squared error looks quite ok. Maybe it words better using a decision tree."
   ]
  },
  {
   "cell_type": "code",
   "execution_count": 306,
   "metadata": {},
   "outputs": [
    {
     "name": "stdout",
     "output_type": "stream",
     "text": [
      "-0.7774127637749733\n",
      "0.8189623303397937\n"
     ]
    }
   ],
   "source": [
    "from sklearn.tree import DecisionTreeRegressor \n",
    "  \n",
    "# create a regressor object\n",
    "regressor = DecisionTreeRegressor(random_state = 0) \n",
    "  \n",
    "# fit the regressor with X and Y data\n",
    "regressor.fit(X_train, y_train)\n",
    "\n",
    "y_test_preds = regressor.predict(X_test)\n",
    "\n",
    "print(r2_score(y_test, y_test_preds)) \n",
    "print(mean_squared_error(y_test, y_test_preds)) "
   ]
  },
  {
   "cell_type": "markdown",
   "metadata": {},
   "source": [
    "Not really, we even got a negative mean squared error. Maybe the rating is just not easy to predict with the given variables and we should ask for another question."
   ]
  },
  {
   "cell_type": "markdown",
   "metadata": {},
   "source": [
    "## Is a more expensive home rated better?"
   ]
  },
  {
   "cell_type": "code",
   "execution_count": 316,
   "metadata": {},
   "outputs": [
    {
     "data": {
      "text/plain": [
       "<AxesSubplot:xlabel='price', ylabel='review_scores_value'>"
      ]
     },
     "execution_count": 316,
     "metadata": {},
     "output_type": "execute_result"
    },
    {
     "data": {
      "image/png": "[encoded data removed]",
      "text/plain": [
       "<Figure size 432x288 with 1 Axes>"
      ]
     },
     "metadata": {
      "needs_background": "light"
     },
     "output_type": "display_data"
    }
   ],
   "source": [
    "df_listings[['price', 'review_scores_value']].plot.scatter(x='price', y = 'review_scores_value')"
   ]
  }
 ],
 "metadata": {
  "kernelspec": {
   "display_name": "Python 3",
   "language": "python",
   "name": "python3"
  },
  "language_info": {
   "codemirror_mode": {
    "name": "ipython",
    "version": 3
   },
   "file_extension": ".py",
   "mimetype": "text/x-python",
   "name": "python",
   "nbconvert_exporter": "python",
   "pygments_lexer": "ipython3",
   "version": "3.8.5"
  }
 },
 "nbformat": 4,
 "nbformat_minor": 4
}
